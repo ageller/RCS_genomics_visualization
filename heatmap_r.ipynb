{
 "cells": [
  {
   "cell_type": "markdown",
   "id": "d7aa4282",
   "metadata": {},
   "source": [
    "# Heatmap of differentially expressed genes in an RNA-seq dataset\n",
    "\n",
    "This notebook follows closely to [this online tutorial](https://training.galaxyproject.org/training-material/topics/transcriptomics/tutorials/rna-seq-viz-with-heatmap2/tutorial.html#create-heatmap-of-top-de-genes).  The datasets are available [here](https://zenodo.org/record/2529926#.YwaRPfHMIas) and should be downloaded into the ```data/heatmap``` directory (which you may have to create).\n",
    "\n",
    "\n",
    "*Note:* this Jupyter notebook was converted to an R markdown file and then an html file using the following command in R :\n",
    "\n",
    "```\n",
    "rmarkdown::convert_ipynb('heatmap_r.ipynb')\n",
    "rmarkdown::render('heatmap_r.Rmd')\n",
    "```\n",
    "\n",
    "___\n",
    "*Author : Aaron M Geller, Aug. 2022*"
   ]
  },
  {
   "cell_type": "code",
   "execution_count": 21,
   "id": "5d85750b",
   "metadata": {},
   "outputs": [],
   "source": [
    "# import the necessary libraries\n",
    "library(tidyr)\n",
    "library(ggplot2)"
   ]
  },
  {
   "cell_type": "markdown",
   "id": "51e4fc68",
   "metadata": {},
   "source": [
    "## 1. Read in the DE results data using ```read.table```."
   ]
  },
  {
   "cell_type": "code",
   "execution_count": 2,
   "id": "cd191f43",
   "metadata": {
    "scrolled": true
   },
   "outputs": [
    {
     "name": "stderr",
     "output_type": "stream",
     "text": [
      "Warning message in scan(file = file, what = what, sep = sep, quote = quote, dec = dec, :\n",
      "\"EOF within quoted string\"\n",
      "Warning message in scan(file = file, what = what, sep = sep, quote = quote, dec = dec, :\n",
      "\"number of items read is not a multiple of the number of columns\"\n"
     ]
    },
    {
     "data": {
      "text/html": [
       "<table class=\"dataframe\">\n",
       "<caption>A data.frame: 6 × 8</caption>\n",
       "<thead>\n",
       "\t<tr><th></th><th scope=col>ENTREZID</th><th scope=col>SYMBOL</th><th scope=col>GENENAME</th><th scope=col>logFC</th><th scope=col>AveExpr</th><th scope=col>t</th><th scope=col>P.Value</th><th scope=col>adj.P.Val</th></tr>\n",
       "\t<tr><th></th><th scope=col>&lt;int&gt;</th><th scope=col>&lt;chr&gt;</th><th scope=col>&lt;chr&gt;</th><th scope=col>&lt;dbl&gt;</th><th scope=col>&lt;dbl&gt;</th><th scope=col>&lt;dbl&gt;</th><th scope=col>&lt;dbl&gt;</th><th scope=col>&lt;dbl&gt;</th></tr>\n",
       "</thead>\n",
       "<tbody>\n",
       "\t<tr><th scope=row>1</th><td> 12992</td><td>Csn1s2b</td><td>casein alpha s2-like B                                                         </td><td>-8.603611</td><td>3.5629500</td><td>-43.79650</td><td>3.830650e-15</td><td>6.053959e-11</td></tr>\n",
       "\t<tr><th scope=row>2</th><td> 13358</td><td>Slc25a1</td><td>solute carrier family 25 (mitochondrial carrier, citrate transporter), member 1</td><td>-4.124175</td><td>5.7796989</td><td>-29.90785</td><td>1.758595e-13</td><td>1.389642e-09</td></tr>\n",
       "\t<tr><th scope=row>3</th><td> 11941</td><td>Atp2b2 </td><td>ATPase, Ca++ transporting, plasma membrane 2                                   </td><td>-7.386986</td><td>1.2821431</td><td>-27.81950</td><td>4.836363e-13</td><td>2.432800e-09</td></tr>\n",
       "\t<tr><th scope=row>4</th><td> 20531</td><td>Slc34a2</td><td>solute carrier family 34 (sodium phosphate), member 2                          </td><td>-4.177812</td><td>4.2786290</td><td>-27.07272</td><td>6.157428e-13</td><td>2.432800e-09</td></tr>\n",
       "\t<tr><th scope=row>5</th><td>100705</td><td>Acacb  </td><td>acetyl-Coenzyme A carboxylase beta                                             </td><td>-4.314320</td><td>4.4409137</td><td>-25.22357</td><td>1.499977e-12</td><td>4.741129e-09</td></tr>\n",
       "\t<tr><th scope=row>6</th><td> 13645</td><td>Egf    </td><td>epidermal growth factor                                                        </td><td>-5.362664</td><td>0.7359047</td><td>-24.59930</td><td>2.116244e-12</td><td>5.574188e-09</td></tr>\n",
       "</tbody>\n",
       "</table>\n"
      ],
      "text/latex": [
       "A data.frame: 6 × 8\n",
       "\\begin{tabular}{r|llllllll}\n",
       "  & ENTREZID & SYMBOL & GENENAME & logFC & AveExpr & t & P.Value & adj.P.Val\\\\\n",
       "  & <int> & <chr> & <chr> & <dbl> & <dbl> & <dbl> & <dbl> & <dbl>\\\\\n",
       "\\hline\n",
       "\t1 &  12992 & Csn1s2b & casein alpha s2-like B                                                          & -8.603611 & 3.5629500 & -43.79650 & 3.830650e-15 & 6.053959e-11\\\\\n",
       "\t2 &  13358 & Slc25a1 & solute carrier family 25 (mitochondrial carrier, citrate transporter), member 1 & -4.124175 & 5.7796989 & -29.90785 & 1.758595e-13 & 1.389642e-09\\\\\n",
       "\t3 &  11941 & Atp2b2  & ATPase, Ca++ transporting, plasma membrane 2                                    & -7.386986 & 1.2821431 & -27.81950 & 4.836363e-13 & 2.432800e-09\\\\\n",
       "\t4 &  20531 & Slc34a2 & solute carrier family 34 (sodium phosphate), member 2                           & -4.177812 & 4.2786290 & -27.07272 & 6.157428e-13 & 2.432800e-09\\\\\n",
       "\t5 & 100705 & Acacb   & acetyl-Coenzyme A carboxylase beta                                              & -4.314320 & 4.4409137 & -25.22357 & 1.499977e-12 & 4.741129e-09\\\\\n",
       "\t6 &  13645 & Egf     & epidermal growth factor                                                         & -5.362664 & 0.7359047 & -24.59930 & 2.116244e-12 & 5.574188e-09\\\\\n",
       "\\end{tabular}\n"
      ],
      "text/markdown": [
       "\n",
       "A data.frame: 6 × 8\n",
       "\n",
       "| <!--/--> | ENTREZID &lt;int&gt; | SYMBOL &lt;chr&gt; | GENENAME &lt;chr&gt; | logFC &lt;dbl&gt; | AveExpr &lt;dbl&gt; | t &lt;dbl&gt; | P.Value &lt;dbl&gt; | adj.P.Val &lt;dbl&gt; |\n",
       "|---|---|---|---|---|---|---|---|---|\n",
       "| 1 |  12992 | Csn1s2b | casein alpha s2-like B                                                          | -8.603611 | 3.5629500 | -43.79650 | 3.830650e-15 | 6.053959e-11 |\n",
       "| 2 |  13358 | Slc25a1 | solute carrier family 25 (mitochondrial carrier, citrate transporter), member 1 | -4.124175 | 5.7796989 | -29.90785 | 1.758595e-13 | 1.389642e-09 |\n",
       "| 3 |  11941 | Atp2b2  | ATPase, Ca++ transporting, plasma membrane 2                                    | -7.386986 | 1.2821431 | -27.81950 | 4.836363e-13 | 2.432800e-09 |\n",
       "| 4 |  20531 | Slc34a2 | solute carrier family 34 (sodium phosphate), member 2                           | -4.177812 | 4.2786290 | -27.07272 | 6.157428e-13 | 2.432800e-09 |\n",
       "| 5 | 100705 | Acacb   | acetyl-Coenzyme A carboxylase beta                                              | -4.314320 | 4.4409137 | -25.22357 | 1.499977e-12 | 4.741129e-09 |\n",
       "| 6 |  13645 | Egf     | epidermal growth factor                                                         | -5.362664 | 0.7359047 | -24.59930 | 2.116244e-12 | 5.574188e-09 |\n",
       "\n"
      ],
      "text/plain": [
       "  ENTREZID SYMBOL \n",
       "1  12992   Csn1s2b\n",
       "2  13358   Slc25a1\n",
       "3  11941   Atp2b2 \n",
       "4  20531   Slc34a2\n",
       "5 100705   Acacb  \n",
       "6  13645   Egf    \n",
       "  GENENAME                                                                       \n",
       "1 casein alpha s2-like B                                                         \n",
       "2 solute carrier family 25 (mitochondrial carrier, citrate transporter), member 1\n",
       "3 ATPase, Ca++ transporting, plasma membrane 2                                   \n",
       "4 solute carrier family 34 (sodium phosphate), member 2                          \n",
       "5 acetyl-Coenzyme A carboxylase beta                                             \n",
       "6 epidermal growth factor                                                        \n",
       "  logFC     AveExpr   t         P.Value      adj.P.Val   \n",
       "1 -8.603611 3.5629500 -43.79650 3.830650e-15 6.053959e-11\n",
       "2 -4.124175 5.7796989 -29.90785 1.758595e-13 1.389642e-09\n",
       "3 -7.386986 1.2821431 -27.81950 4.836363e-13 2.432800e-09\n",
       "4 -4.177812 4.2786290 -27.07272 6.157428e-13 2.432800e-09\n",
       "5 -4.314320 4.4409137 -25.22357 1.499977e-12 4.741129e-09\n",
       "6 -5.362664 0.7359047 -24.59930 2.116244e-12 5.574188e-09"
      ]
     },
     "metadata": {},
     "output_type": "display_data"
    }
   ],
   "source": [
    "DE_results <- read.table('data/heatmap/limma-voom_luminalpregnant-luminallactate.tsv', sep='\\t', header=TRUE)\n",
    "head(DE_results)"
   ]
  },
  {
   "cell_type": "markdown",
   "id": "a6fab585",
   "metadata": {},
   "source": [
    "## 2. Filter the results to only include the most significant genes."
   ]
  },
  {
   "cell_type": "markdown",
   "id": "0c5a55d1",
   "metadata": {},
   "source": [
    "### 2.1. Set a threshold for ```adj.P.Val < 0.01``` and ```abs(logFC) > 0.58```."
   ]
  },
  {
   "cell_type": "code",
   "execution_count": 3,
   "id": "cb496632",
   "metadata": {},
   "outputs": [
    {
     "data": {
      "text/html": [
       "<table class=\"dataframe\">\n",
       "<caption>A data.frame: 6 × 8</caption>\n",
       "<thead>\n",
       "\t<tr><th></th><th scope=col>ENTREZID</th><th scope=col>SYMBOL</th><th scope=col>GENENAME</th><th scope=col>logFC</th><th scope=col>AveExpr</th><th scope=col>t</th><th scope=col>P.Value</th><th scope=col>adj.P.Val</th></tr>\n",
       "\t<tr><th></th><th scope=col>&lt;int&gt;</th><th scope=col>&lt;chr&gt;</th><th scope=col>&lt;chr&gt;</th><th scope=col>&lt;dbl&gt;</th><th scope=col>&lt;dbl&gt;</th><th scope=col>&lt;dbl&gt;</th><th scope=col>&lt;dbl&gt;</th><th scope=col>&lt;dbl&gt;</th></tr>\n",
       "</thead>\n",
       "<tbody>\n",
       "\t<tr><th scope=row>1</th><td> 12992</td><td>Csn1s2b</td><td>casein alpha s2-like B                                                         </td><td>-8.603611</td><td>3.5629500</td><td>-43.79650</td><td>3.830650e-15</td><td>6.053959e-11</td></tr>\n",
       "\t<tr><th scope=row>2</th><td> 13358</td><td>Slc25a1</td><td>solute carrier family 25 (mitochondrial carrier, citrate transporter), member 1</td><td>-4.124175</td><td>5.7796989</td><td>-29.90785</td><td>1.758595e-13</td><td>1.389642e-09</td></tr>\n",
       "\t<tr><th scope=row>3</th><td> 11941</td><td>Atp2b2 </td><td>ATPase, Ca++ transporting, plasma membrane 2                                   </td><td>-7.386986</td><td>1.2821431</td><td>-27.81950</td><td>4.836363e-13</td><td>2.432800e-09</td></tr>\n",
       "\t<tr><th scope=row>4</th><td> 20531</td><td>Slc34a2</td><td>solute carrier family 34 (sodium phosphate), member 2                          </td><td>-4.177812</td><td>4.2786290</td><td>-27.07272</td><td>6.157428e-13</td><td>2.432800e-09</td></tr>\n",
       "\t<tr><th scope=row>5</th><td>100705</td><td>Acacb  </td><td>acetyl-Coenzyme A carboxylase beta                                             </td><td>-4.314320</td><td>4.4409137</td><td>-25.22357</td><td>1.499977e-12</td><td>4.741129e-09</td></tr>\n",
       "\t<tr><th scope=row>6</th><td> 13645</td><td>Egf    </td><td>epidermal growth factor                                                        </td><td>-5.362664</td><td>0.7359047</td><td>-24.59930</td><td>2.116244e-12</td><td>5.574188e-09</td></tr>\n",
       "</tbody>\n",
       "</table>\n"
      ],
      "text/latex": [
       "A data.frame: 6 × 8\n",
       "\\begin{tabular}{r|llllllll}\n",
       "  & ENTREZID & SYMBOL & GENENAME & logFC & AveExpr & t & P.Value & adj.P.Val\\\\\n",
       "  & <int> & <chr> & <chr> & <dbl> & <dbl> & <dbl> & <dbl> & <dbl>\\\\\n",
       "\\hline\n",
       "\t1 &  12992 & Csn1s2b & casein alpha s2-like B                                                          & -8.603611 & 3.5629500 & -43.79650 & 3.830650e-15 & 6.053959e-11\\\\\n",
       "\t2 &  13358 & Slc25a1 & solute carrier family 25 (mitochondrial carrier, citrate transporter), member 1 & -4.124175 & 5.7796989 & -29.90785 & 1.758595e-13 & 1.389642e-09\\\\\n",
       "\t3 &  11941 & Atp2b2  & ATPase, Ca++ transporting, plasma membrane 2                                    & -7.386986 & 1.2821431 & -27.81950 & 4.836363e-13 & 2.432800e-09\\\\\n",
       "\t4 &  20531 & Slc34a2 & solute carrier family 34 (sodium phosphate), member 2                           & -4.177812 & 4.2786290 & -27.07272 & 6.157428e-13 & 2.432800e-09\\\\\n",
       "\t5 & 100705 & Acacb   & acetyl-Coenzyme A carboxylase beta                                              & -4.314320 & 4.4409137 & -25.22357 & 1.499977e-12 & 4.741129e-09\\\\\n",
       "\t6 &  13645 & Egf     & epidermal growth factor                                                         & -5.362664 & 0.7359047 & -24.59930 & 2.116244e-12 & 5.574188e-09\\\\\n",
       "\\end{tabular}\n"
      ],
      "text/markdown": [
       "\n",
       "A data.frame: 6 × 8\n",
       "\n",
       "| <!--/--> | ENTREZID &lt;int&gt; | SYMBOL &lt;chr&gt; | GENENAME &lt;chr&gt; | logFC &lt;dbl&gt; | AveExpr &lt;dbl&gt; | t &lt;dbl&gt; | P.Value &lt;dbl&gt; | adj.P.Val &lt;dbl&gt; |\n",
       "|---|---|---|---|---|---|---|---|---|\n",
       "| 1 |  12992 | Csn1s2b | casein alpha s2-like B                                                          | -8.603611 | 3.5629500 | -43.79650 | 3.830650e-15 | 6.053959e-11 |\n",
       "| 2 |  13358 | Slc25a1 | solute carrier family 25 (mitochondrial carrier, citrate transporter), member 1 | -4.124175 | 5.7796989 | -29.90785 | 1.758595e-13 | 1.389642e-09 |\n",
       "| 3 |  11941 | Atp2b2  | ATPase, Ca++ transporting, plasma membrane 2                                    | -7.386986 | 1.2821431 | -27.81950 | 4.836363e-13 | 2.432800e-09 |\n",
       "| 4 |  20531 | Slc34a2 | solute carrier family 34 (sodium phosphate), member 2                           | -4.177812 | 4.2786290 | -27.07272 | 6.157428e-13 | 2.432800e-09 |\n",
       "| 5 | 100705 | Acacb   | acetyl-Coenzyme A carboxylase beta                                              | -4.314320 | 4.4409137 | -25.22357 | 1.499977e-12 | 4.741129e-09 |\n",
       "| 6 |  13645 | Egf     | epidermal growth factor                                                         | -5.362664 | 0.7359047 | -24.59930 | 2.116244e-12 | 5.574188e-09 |\n",
       "\n"
      ],
      "text/plain": [
       "  ENTREZID SYMBOL \n",
       "1  12992   Csn1s2b\n",
       "2  13358   Slc25a1\n",
       "3  11941   Atp2b2 \n",
       "4  20531   Slc34a2\n",
       "5 100705   Acacb  \n",
       "6  13645   Egf    \n",
       "  GENENAME                                                                       \n",
       "1 casein alpha s2-like B                                                         \n",
       "2 solute carrier family 25 (mitochondrial carrier, citrate transporter), member 1\n",
       "3 ATPase, Ca++ transporting, plasma membrane 2                                   \n",
       "4 solute carrier family 34 (sodium phosphate), member 2                          \n",
       "5 acetyl-Coenzyme A carboxylase beta                                             \n",
       "6 epidermal growth factor                                                        \n",
       "  logFC     AveExpr   t         P.Value      adj.P.Val   \n",
       "1 -8.603611 3.5629500 -43.79650 3.830650e-15 6.053959e-11\n",
       "2 -4.124175 5.7796989 -29.90785 1.758595e-13 1.389642e-09\n",
       "3 -7.386986 1.2821431 -27.81950 4.836363e-13 2.432800e-09\n",
       "4 -4.177812 4.2786290 -27.07272 6.157428e-13 2.432800e-09\n",
       "5 -4.314320 4.4409137 -25.22357 1.499977e-12 4.741129e-09\n",
       "6 -5.362664 0.7359047 -24.59930 2.116244e-12 5.574188e-09"
      ]
     },
     "metadata": {},
     "output_type": "display_data"
    }
   ],
   "source": [
    "df <- DE_results[which(DE_results['adj.P.Val'] < 0.01 & abs(DE_results['logFC']) > 0.58),]\n",
    "head(df)"
   ]
  },
  {
   "cell_type": "markdown",
   "id": "95776d4a",
   "metadata": {},
   "source": [
    "### 2.2. Sort by ```P.Value``` (in ascending order)."
   ]
  },
  {
   "cell_type": "code",
   "execution_count": 4,
   "id": "e9016bb8",
   "metadata": {},
   "outputs": [],
   "source": [
    "df <- df[order(df$P.Value),]"
   ]
  },
  {
   "cell_type": "markdown",
   "id": "444df4c2",
   "metadata": {},
   "source": [
    "### 2.3. Select the top 20 for the plot."
   ]
  },
  {
   "cell_type": "code",
   "execution_count": 5,
   "id": "4b0ba821",
   "metadata": {},
   "outputs": [
    {
     "data": {
      "text/html": [
       "<table class=\"dataframe\">\n",
       "<caption>A data.frame: 20 × 8</caption>\n",
       "<thead>\n",
       "\t<tr><th></th><th scope=col>ENTREZID</th><th scope=col>SYMBOL</th><th scope=col>GENENAME</th><th scope=col>logFC</th><th scope=col>AveExpr</th><th scope=col>t</th><th scope=col>P.Value</th><th scope=col>adj.P.Val</th></tr>\n",
       "\t<tr><th></th><th scope=col>&lt;int&gt;</th><th scope=col>&lt;chr&gt;</th><th scope=col>&lt;chr&gt;</th><th scope=col>&lt;dbl&gt;</th><th scope=col>&lt;dbl&gt;</th><th scope=col>&lt;dbl&gt;</th><th scope=col>&lt;dbl&gt;</th><th scope=col>&lt;dbl&gt;</th></tr>\n",
       "</thead>\n",
       "<tbody>\n",
       "\t<tr><th scope=row>1</th><td> 12992</td><td>Csn1s2b </td><td>casein alpha s2-like B                                                         </td><td>-8.603611</td><td>3.5629500</td><td>-43.79650</td><td>3.830650e-15</td><td>6.053959e-11</td></tr>\n",
       "\t<tr><th scope=row>2</th><td> 13358</td><td>Slc25a1 </td><td>solute carrier family 25 (mitochondrial carrier, citrate transporter), member 1</td><td>-4.124175</td><td>5.7796989</td><td>-29.90785</td><td>1.758595e-13</td><td>1.389642e-09</td></tr>\n",
       "\t<tr><th scope=row>3</th><td> 11941</td><td>Atp2b2  </td><td>ATPase, Ca++ transporting, plasma membrane 2                                   </td><td>-7.386986</td><td>1.2821431</td><td>-27.81950</td><td>4.836363e-13</td><td>2.432800e-09</td></tr>\n",
       "\t<tr><th scope=row>4</th><td> 20531</td><td>Slc34a2 </td><td>solute carrier family 34 (sodium phosphate), member 2                          </td><td>-4.177812</td><td>4.2786290</td><td>-27.07272</td><td>6.157428e-13</td><td>2.432800e-09</td></tr>\n",
       "\t<tr><th scope=row>5</th><td>100705</td><td>Acacb   </td><td>acetyl-Coenzyme A carboxylase beta                                             </td><td>-4.314320</td><td>4.4409137</td><td>-25.22357</td><td>1.499977e-12</td><td>4.741129e-09</td></tr>\n",
       "\t<tr><th scope=row>6</th><td> 13645</td><td>Egf     </td><td>epidermal growth factor                                                        </td><td>-5.362664</td><td>0.7359047</td><td>-24.59930</td><td>2.116244e-12</td><td>5.574188e-09</td></tr>\n",
       "\t<tr><th scope=row>7</th><td>230810</td><td>Slc30a2 </td><td>solute carrier family 30 (zinc transporter), member 2                          </td><td>-3.203118</td><td>2.6958115</td><td>-23.80428</td><td>3.024668e-12</td><td>6.828836e-09</td></tr>\n",
       "\t<tr><th scope=row>8</th><td> 68801</td><td>Elovl5  </td><td>ELOVL family member 5, elongation of long chain fatty acids (yeast)            </td><td>-2.863304</td><td>6.4552045</td><td>-22.35358</td><td>6.598744e-12</td><td>1.303582e-08</td></tr>\n",
       "\t<tr><th scope=row>9</th><td> 19659</td><td>Rbp1    </td><td>retinol binding protein 1, cellular                                            </td><td> 5.443044</td><td>6.1070332</td><td> 21.05236</td><td>1.479143e-11</td><td>2.364746e-08</td></tr>\n",
       "\t<tr><th scope=row>10</th><td> 26366</td><td>Ceacam10</td><td>carcinoembryonic antigen-related cell adhesion molecule 10                     </td><td>-3.295621</td><td>1.8210142</td><td>-20.93927</td><td>1.496296e-11</td><td>2.364746e-08</td></tr>\n",
       "\t<tr><th scope=row>11</th><td> 69219</td><td>Ddah1   </td><td>dimethylarginine dimethylaminohydrolase 1                                      </td><td>-6.264983</td><td>1.1766693</td><td>-20.86711</td><td>1.696231e-11</td><td>2.437021e-08</td></tr>\n",
       "\t<tr><th scope=row>12</th><td> 12683</td><td>Cidea   </td><td>cell death-inducing DNA fragmentation factor, alpha subunit-like effector A    </td><td>-4.840655</td><td>3.3749575</td><td>-23.34753</td><td>2.757732e-11</td><td>3.631933e-08</td></tr>\n",
       "\t<tr><th scope=row>13</th><td> 68603</td><td>Pmvk    </td><td>phosphomevalonate kinase                                                       </td><td>-2.676983</td><td>4.7231068</td><td>-19.59665</td><td>3.376092e-11</td><td>3.985063e-08</td></tr>\n",
       "\t<tr><th scope=row>14</th><td> 20440</td><td>St6gal1 </td><td>beta galactoside alpha 2,6 sialyltransferase 1                                 </td><td>-2.847276</td><td>5.9159772</td><td>-19.52868</td><td>3.530175e-11</td><td>3.985063e-08</td></tr>\n",
       "\t<tr><th scope=row>15</th><td> 19041</td><td>Ppl     </td><td>periplakin                                                                     </td><td> 3.609831</td><td>6.3870283</td><td> 19.37314</td><td>3.942991e-11</td><td>3.994798e-08</td></tr>\n",
       "\t<tr><th scope=row>16</th><td>170439</td><td>Elovl6  </td><td>ELOVL family member 6, elongation of long chain fatty acids (yeast)            </td><td>-3.181536</td><td>5.0326036</td><td>-19.32178</td><td>4.044341e-11</td><td>3.994798e-08</td></tr>\n",
       "\t<tr><th scope=row>17</th><td> 14598</td><td>Ggt1    </td><td>gamma-glutamyltransferase 1                                                    </td><td>-3.018192</td><td>6.0957539</td><td>-18.85092</td><td>5.472729e-11</td><td>5.087706e-08</td></tr>\n",
       "\t<tr><th scope=row>18</th><td> 67547</td><td>Slc39a8 </td><td>solute carrier family 39 (metal ion transporter), member 8                     </td><td>-6.575426</td><td>3.4057103</td><td>-18.53671</td><td>7.427548e-11</td><td>6.521387e-08</td></tr>\n",
       "\t<tr><th scope=row>19</th><td> 72027</td><td>Slc39a4 </td><td>solute carrier family 39 (zinc transporter), member 4                          </td><td> 4.362021</td><td>2.7487898</td><td> 18.28949</td><td>8.167930e-11</td><td>6.793998e-08</td></tr>\n",
       "\t<tr><th scope=row>20</th><td> 20249</td><td>Scd1    </td><td>stearoyl-Coenzyme A desaturase 1                                               </td><td>-3.296577</td><td>9.1109538</td><td>-18.08614</td><td>9.155093e-11</td><td>7.234355e-08</td></tr>\n",
       "</tbody>\n",
       "</table>\n"
      ],
      "text/latex": [
       "A data.frame: 20 × 8\n",
       "\\begin{tabular}{r|llllllll}\n",
       "  & ENTREZID & SYMBOL & GENENAME & logFC & AveExpr & t & P.Value & adj.P.Val\\\\\n",
       "  & <int> & <chr> & <chr> & <dbl> & <dbl> & <dbl> & <dbl> & <dbl>\\\\\n",
       "\\hline\n",
       "\t1 &  12992 & Csn1s2b  & casein alpha s2-like B                                                          & -8.603611 & 3.5629500 & -43.79650 & 3.830650e-15 & 6.053959e-11\\\\\n",
       "\t2 &  13358 & Slc25a1  & solute carrier family 25 (mitochondrial carrier, citrate transporter), member 1 & -4.124175 & 5.7796989 & -29.90785 & 1.758595e-13 & 1.389642e-09\\\\\n",
       "\t3 &  11941 & Atp2b2   & ATPase, Ca++ transporting, plasma membrane 2                                    & -7.386986 & 1.2821431 & -27.81950 & 4.836363e-13 & 2.432800e-09\\\\\n",
       "\t4 &  20531 & Slc34a2  & solute carrier family 34 (sodium phosphate), member 2                           & -4.177812 & 4.2786290 & -27.07272 & 6.157428e-13 & 2.432800e-09\\\\\n",
       "\t5 & 100705 & Acacb    & acetyl-Coenzyme A carboxylase beta                                              & -4.314320 & 4.4409137 & -25.22357 & 1.499977e-12 & 4.741129e-09\\\\\n",
       "\t6 &  13645 & Egf      & epidermal growth factor                                                         & -5.362664 & 0.7359047 & -24.59930 & 2.116244e-12 & 5.574188e-09\\\\\n",
       "\t7 & 230810 & Slc30a2  & solute carrier family 30 (zinc transporter), member 2                           & -3.203118 & 2.6958115 & -23.80428 & 3.024668e-12 & 6.828836e-09\\\\\n",
       "\t8 &  68801 & Elovl5   & ELOVL family member 5, elongation of long chain fatty acids (yeast)             & -2.863304 & 6.4552045 & -22.35358 & 6.598744e-12 & 1.303582e-08\\\\\n",
       "\t9 &  19659 & Rbp1     & retinol binding protein 1, cellular                                             &  5.443044 & 6.1070332 &  21.05236 & 1.479143e-11 & 2.364746e-08\\\\\n",
       "\t10 &  26366 & Ceacam10 & carcinoembryonic antigen-related cell adhesion molecule 10                      & -3.295621 & 1.8210142 & -20.93927 & 1.496296e-11 & 2.364746e-08\\\\\n",
       "\t11 &  69219 & Ddah1    & dimethylarginine dimethylaminohydrolase 1                                       & -6.264983 & 1.1766693 & -20.86711 & 1.696231e-11 & 2.437021e-08\\\\\n",
       "\t12 &  12683 & Cidea    & cell death-inducing DNA fragmentation factor, alpha subunit-like effector A     & -4.840655 & 3.3749575 & -23.34753 & 2.757732e-11 & 3.631933e-08\\\\\n",
       "\t13 &  68603 & Pmvk     & phosphomevalonate kinase                                                        & -2.676983 & 4.7231068 & -19.59665 & 3.376092e-11 & 3.985063e-08\\\\\n",
       "\t14 &  20440 & St6gal1  & beta galactoside alpha 2,6 sialyltransferase 1                                  & -2.847276 & 5.9159772 & -19.52868 & 3.530175e-11 & 3.985063e-08\\\\\n",
       "\t15 &  19041 & Ppl      & periplakin                                                                      &  3.609831 & 6.3870283 &  19.37314 & 3.942991e-11 & 3.994798e-08\\\\\n",
       "\t16 & 170439 & Elovl6   & ELOVL family member 6, elongation of long chain fatty acids (yeast)             & -3.181536 & 5.0326036 & -19.32178 & 4.044341e-11 & 3.994798e-08\\\\\n",
       "\t17 &  14598 & Ggt1     & gamma-glutamyltransferase 1                                                     & -3.018192 & 6.0957539 & -18.85092 & 5.472729e-11 & 5.087706e-08\\\\\n",
       "\t18 &  67547 & Slc39a8  & solute carrier family 39 (metal ion transporter), member 8                      & -6.575426 & 3.4057103 & -18.53671 & 7.427548e-11 & 6.521387e-08\\\\\n",
       "\t19 &  72027 & Slc39a4  & solute carrier family 39 (zinc transporter), member 4                           &  4.362021 & 2.7487898 &  18.28949 & 8.167930e-11 & 6.793998e-08\\\\\n",
       "\t20 &  20249 & Scd1     & stearoyl-Coenzyme A desaturase 1                                                & -3.296577 & 9.1109538 & -18.08614 & 9.155093e-11 & 7.234355e-08\\\\\n",
       "\\end{tabular}\n"
      ],
      "text/markdown": [
       "\n",
       "A data.frame: 20 × 8\n",
       "\n",
       "| <!--/--> | ENTREZID &lt;int&gt; | SYMBOL &lt;chr&gt; | GENENAME &lt;chr&gt; | logFC &lt;dbl&gt; | AveExpr &lt;dbl&gt; | t &lt;dbl&gt; | P.Value &lt;dbl&gt; | adj.P.Val &lt;dbl&gt; |\n",
       "|---|---|---|---|---|---|---|---|---|\n",
       "| 1 |  12992 | Csn1s2b  | casein alpha s2-like B                                                          | -8.603611 | 3.5629500 | -43.79650 | 3.830650e-15 | 6.053959e-11 |\n",
       "| 2 |  13358 | Slc25a1  | solute carrier family 25 (mitochondrial carrier, citrate transporter), member 1 | -4.124175 | 5.7796989 | -29.90785 | 1.758595e-13 | 1.389642e-09 |\n",
       "| 3 |  11941 | Atp2b2   | ATPase, Ca++ transporting, plasma membrane 2                                    | -7.386986 | 1.2821431 | -27.81950 | 4.836363e-13 | 2.432800e-09 |\n",
       "| 4 |  20531 | Slc34a2  | solute carrier family 34 (sodium phosphate), member 2                           | -4.177812 | 4.2786290 | -27.07272 | 6.157428e-13 | 2.432800e-09 |\n",
       "| 5 | 100705 | Acacb    | acetyl-Coenzyme A carboxylase beta                                              | -4.314320 | 4.4409137 | -25.22357 | 1.499977e-12 | 4.741129e-09 |\n",
       "| 6 |  13645 | Egf      | epidermal growth factor                                                         | -5.362664 | 0.7359047 | -24.59930 | 2.116244e-12 | 5.574188e-09 |\n",
       "| 7 | 230810 | Slc30a2  | solute carrier family 30 (zinc transporter), member 2                           | -3.203118 | 2.6958115 | -23.80428 | 3.024668e-12 | 6.828836e-09 |\n",
       "| 8 |  68801 | Elovl5   | ELOVL family member 5, elongation of long chain fatty acids (yeast)             | -2.863304 | 6.4552045 | -22.35358 | 6.598744e-12 | 1.303582e-08 |\n",
       "| 9 |  19659 | Rbp1     | retinol binding protein 1, cellular                                             |  5.443044 | 6.1070332 |  21.05236 | 1.479143e-11 | 2.364746e-08 |\n",
       "| 10 |  26366 | Ceacam10 | carcinoembryonic antigen-related cell adhesion molecule 10                      | -3.295621 | 1.8210142 | -20.93927 | 1.496296e-11 | 2.364746e-08 |\n",
       "| 11 |  69219 | Ddah1    | dimethylarginine dimethylaminohydrolase 1                                       | -6.264983 | 1.1766693 | -20.86711 | 1.696231e-11 | 2.437021e-08 |\n",
       "| 12 |  12683 | Cidea    | cell death-inducing DNA fragmentation factor, alpha subunit-like effector A     | -4.840655 | 3.3749575 | -23.34753 | 2.757732e-11 | 3.631933e-08 |\n",
       "| 13 |  68603 | Pmvk     | phosphomevalonate kinase                                                        | -2.676983 | 4.7231068 | -19.59665 | 3.376092e-11 | 3.985063e-08 |\n",
       "| 14 |  20440 | St6gal1  | beta galactoside alpha 2,6 sialyltransferase 1                                  | -2.847276 | 5.9159772 | -19.52868 | 3.530175e-11 | 3.985063e-08 |\n",
       "| 15 |  19041 | Ppl      | periplakin                                                                      |  3.609831 | 6.3870283 |  19.37314 | 3.942991e-11 | 3.994798e-08 |\n",
       "| 16 | 170439 | Elovl6   | ELOVL family member 6, elongation of long chain fatty acids (yeast)             | -3.181536 | 5.0326036 | -19.32178 | 4.044341e-11 | 3.994798e-08 |\n",
       "| 17 |  14598 | Ggt1     | gamma-glutamyltransferase 1                                                     | -3.018192 | 6.0957539 | -18.85092 | 5.472729e-11 | 5.087706e-08 |\n",
       "| 18 |  67547 | Slc39a8  | solute carrier family 39 (metal ion transporter), member 8                      | -6.575426 | 3.4057103 | -18.53671 | 7.427548e-11 | 6.521387e-08 |\n",
       "| 19 |  72027 | Slc39a4  | solute carrier family 39 (zinc transporter), member 4                           |  4.362021 | 2.7487898 |  18.28949 | 8.167930e-11 | 6.793998e-08 |\n",
       "| 20 |  20249 | Scd1     | stearoyl-Coenzyme A desaturase 1                                                | -3.296577 | 9.1109538 | -18.08614 | 9.155093e-11 | 7.234355e-08 |\n",
       "\n"
      ],
      "text/plain": [
       "   ENTREZID SYMBOL  \n",
       "1   12992   Csn1s2b \n",
       "2   13358   Slc25a1 \n",
       "3   11941   Atp2b2  \n",
       "4   20531   Slc34a2 \n",
       "5  100705   Acacb   \n",
       "6   13645   Egf     \n",
       "7  230810   Slc30a2 \n",
       "8   68801   Elovl5  \n",
       "9   19659   Rbp1    \n",
       "10  26366   Ceacam10\n",
       "11  69219   Ddah1   \n",
       "12  12683   Cidea   \n",
       "13  68603   Pmvk    \n",
       "14  20440   St6gal1 \n",
       "15  19041   Ppl     \n",
       "16 170439   Elovl6  \n",
       "17  14598   Ggt1    \n",
       "18  67547   Slc39a8 \n",
       "19  72027   Slc39a4 \n",
       "20  20249   Scd1    \n",
       "   GENENAME                                                                       \n",
       "1  casein alpha s2-like B                                                         \n",
       "2  solute carrier family 25 (mitochondrial carrier, citrate transporter), member 1\n",
       "3  ATPase, Ca++ transporting, plasma membrane 2                                   \n",
       "4  solute carrier family 34 (sodium phosphate), member 2                          \n",
       "5  acetyl-Coenzyme A carboxylase beta                                             \n",
       "6  epidermal growth factor                                                        \n",
       "7  solute carrier family 30 (zinc transporter), member 2                          \n",
       "8  ELOVL family member 5, elongation of long chain fatty acids (yeast)            \n",
       "9  retinol binding protein 1, cellular                                            \n",
       "10 carcinoembryonic antigen-related cell adhesion molecule 10                     \n",
       "11 dimethylarginine dimethylaminohydrolase 1                                      \n",
       "12 cell death-inducing DNA fragmentation factor, alpha subunit-like effector A    \n",
       "13 phosphomevalonate kinase                                                       \n",
       "14 beta galactoside alpha 2,6 sialyltransferase 1                                 \n",
       "15 periplakin                                                                     \n",
       "16 ELOVL family member 6, elongation of long chain fatty acids (yeast)            \n",
       "17 gamma-glutamyltransferase 1                                                    \n",
       "18 solute carrier family 39 (metal ion transporter), member 8                     \n",
       "19 solute carrier family 39 (zinc transporter), member 4                          \n",
       "20 stearoyl-Coenzyme A desaturase 1                                               \n",
       "   logFC     AveExpr   t         P.Value      adj.P.Val   \n",
       "1  -8.603611 3.5629500 -43.79650 3.830650e-15 6.053959e-11\n",
       "2  -4.124175 5.7796989 -29.90785 1.758595e-13 1.389642e-09\n",
       "3  -7.386986 1.2821431 -27.81950 4.836363e-13 2.432800e-09\n",
       "4  -4.177812 4.2786290 -27.07272 6.157428e-13 2.432800e-09\n",
       "5  -4.314320 4.4409137 -25.22357 1.499977e-12 4.741129e-09\n",
       "6  -5.362664 0.7359047 -24.59930 2.116244e-12 5.574188e-09\n",
       "7  -3.203118 2.6958115 -23.80428 3.024668e-12 6.828836e-09\n",
       "8  -2.863304 6.4552045 -22.35358 6.598744e-12 1.303582e-08\n",
       "9   5.443044 6.1070332  21.05236 1.479143e-11 2.364746e-08\n",
       "10 -3.295621 1.8210142 -20.93927 1.496296e-11 2.364746e-08\n",
       "11 -6.264983 1.1766693 -20.86711 1.696231e-11 2.437021e-08\n",
       "12 -4.840655 3.3749575 -23.34753 2.757732e-11 3.631933e-08\n",
       "13 -2.676983 4.7231068 -19.59665 3.376092e-11 3.985063e-08\n",
       "14 -2.847276 5.9159772 -19.52868 3.530175e-11 3.985063e-08\n",
       "15  3.609831 6.3870283  19.37314 3.942991e-11 3.994798e-08\n",
       "16 -3.181536 5.0326036 -19.32178 4.044341e-11 3.994798e-08\n",
       "17 -3.018192 6.0957539 -18.85092 5.472729e-11 5.087706e-08\n",
       "18 -6.575426 3.4057103 -18.53671 7.427548e-11 6.521387e-08\n",
       "19  4.362021 2.7487898  18.28949 8.167930e-11 6.793998e-08\n",
       "20 -3.296577 9.1109538 -18.08614 9.155093e-11 7.234355e-08"
      ]
     },
     "metadata": {},
     "output_type": "display_data"
    }
   ],
   "source": [
    "DE_results_sig <- head(df, 20)\n",
    "\n",
    "DE_results_sig"
   ]
  },
  {
   "cell_type": "markdown",
   "id": "85c58ca6",
   "metadata": {},
   "source": [
    "## 3. Read in the normalized counts data using ```read.table```."
   ]
  },
  {
   "cell_type": "code",
   "execution_count": 6,
   "id": "e862a15a",
   "metadata": {},
   "outputs": [
    {
     "name": "stderr",
     "output_type": "stream",
     "text": [
      "Warning message in scan(file = file, what = what, sep = sep, quote = quote, dec = dec, :\n",
      "\"EOF within quoted string\"\n",
      "Warning message in scan(file = file, what = what, sep = sep, quote = quote, dec = dec, :\n",
      "\"number of items read is not a multiple of the number of columns\"\n"
     ]
    },
    {
     "data": {
      "text/html": [
       "<table class=\"dataframe\">\n",
       "<caption>A data.frame: 6 × 15</caption>\n",
       "<thead>\n",
       "\t<tr><th></th><th scope=col>ENTREZID</th><th scope=col>SYMBOL</th><th scope=col>GENENAME</th><th scope=col>MCL1.DG</th><th scope=col>MCL1.DH</th><th scope=col>MCL1.DI</th><th scope=col>MCL1.DJ</th><th scope=col>MCL1.DK</th><th scope=col>MCL1.DL</th><th scope=col>MCL1.LA</th><th scope=col>MCL1.LB</th><th scope=col>MCL1.LC</th><th scope=col>MCL1.LD</th><th scope=col>MCL1.LE</th><th scope=col>MCL1.LF</th></tr>\n",
       "\t<tr><th></th><th scope=col>&lt;int&gt;</th><th scope=col>&lt;chr&gt;</th><th scope=col>&lt;chr&gt;</th><th scope=col>&lt;dbl&gt;</th><th scope=col>&lt;dbl&gt;</th><th scope=col>&lt;dbl&gt;</th><th scope=col>&lt;dbl&gt;</th><th scope=col>&lt;dbl&gt;</th><th scope=col>&lt;dbl&gt;</th><th scope=col>&lt;dbl&gt;</th><th scope=col>&lt;dbl&gt;</th><th scope=col>&lt;dbl&gt;</th><th scope=col>&lt;dbl&gt;</th><th scope=col>&lt;dbl&gt;</th><th scope=col>&lt;dbl&gt;</th></tr>\n",
       "</thead>\n",
       "<tbody>\n",
       "\t<tr><th scope=row>1</th><td>497097</td><td>Xkr4  </td><td>X-linked Kx blood group related 4        </td><td> 3.932532</td><td> 3.507368</td><td> 1.2723173</td><td> 3.292541</td><td> 3.9909851</td><td> 3.724252</td><td>-5.8019424</td><td>-5.8887821</td><td>-5.4816421</td><td>-5.343143</td><td>-4.709206</td><td>-4.7226146</td></tr>\n",
       "\t<tr><th scope=row>2</th><td> 20671</td><td>Sox17 </td><td>SRY (sex determining region Y)-box 17    </td><td> 1.890808</td><td> 2.787899</td><td> 1.6052165</td><td> 2.121856</td><td> 0.9642868</td><td> 1.923156</td><td>-0.7575483</td><td>-0.2163568</td><td>-0.2721888</td><td>-1.255680</td><td>-1.901851</td><td>-0.3302972</td></tr>\n",
       "\t<tr><th scope=row>3</th><td> 27395</td><td>Mrpl15</td><td>mitochondrial ribosomal protein L15      </td><td> 3.429894</td><td> 3.149591</td><td> 3.6376380</td><td> 3.631978</td><td> 3.7037376</td><td> 3.636318</td><td> 4.3286281</td><td> 3.9707527</td><td> 4.4535229</td><td> 4.016606</td><td> 4.555237</td><td> 4.6973455</td></tr>\n",
       "\t<tr><th scope=row>4</th><td> 18777</td><td>Lypla1</td><td>lysophospholipase 1                      </td><td> 4.505933</td><td> 4.285975</td><td> 5.1283983</td><td> 5.270351</td><td> 5.3801014</td><td> 5.185279</td><td> 4.8889286</td><td> 4.8635986</td><td> 4.9031416</td><td> 4.993363</td><td> 5.379583</td><td> 5.4610208</td></tr>\n",
       "\t<tr><th scope=row>5</th><td> 21399</td><td>Tcea1 </td><td>transcription elongation factor A (SII) 1</td><td> 5.804007</td><td> 5.822559</td><td> 5.9883448</td><td> 5.764344</td><td> 5.7006304</td><td> 5.615502</td><td> 5.5801412</td><td> 5.4087074</td><td> 5.5797290</td><td> 5.512504</td><td> 5.280898</td><td> 5.2446116</td></tr>\n",
       "\t<tr><th scope=row>6</th><td> 58175</td><td>Rgs20 </td><td>regulator of G-protein signaling 20      </td><td>-2.673976</td><td>-3.401925</td><td>-0.9031247</td><td>-2.429318</td><td>-3.1567286</td><td>-3.121238</td><td> 2.6116855</td><td> 2.4819053</td><td> 2.6321000</td><td> 1.575720</td><td> 1.072154</td><td> 0.2315817</td></tr>\n",
       "</tbody>\n",
       "</table>\n"
      ],
      "text/latex": [
       "A data.frame: 6 × 15\n",
       "\\begin{tabular}{r|lllllllllllllll}\n",
       "  & ENTREZID & SYMBOL & GENENAME & MCL1.DG & MCL1.DH & MCL1.DI & MCL1.DJ & MCL1.DK & MCL1.DL & MCL1.LA & MCL1.LB & MCL1.LC & MCL1.LD & MCL1.LE & MCL1.LF\\\\\n",
       "  & <int> & <chr> & <chr> & <dbl> & <dbl> & <dbl> & <dbl> & <dbl> & <dbl> & <dbl> & <dbl> & <dbl> & <dbl> & <dbl> & <dbl>\\\\\n",
       "\\hline\n",
       "\t1 & 497097 & Xkr4   & X-linked Kx blood group related 4         &  3.932532 &  3.507368 &  1.2723173 &  3.292541 &  3.9909851 &  3.724252 & -5.8019424 & -5.8887821 & -5.4816421 & -5.343143 & -4.709206 & -4.7226146\\\\\n",
       "\t2 &  20671 & Sox17  & SRY (sex determining region Y)-box 17     &  1.890808 &  2.787899 &  1.6052165 &  2.121856 &  0.9642868 &  1.923156 & -0.7575483 & -0.2163568 & -0.2721888 & -1.255680 & -1.901851 & -0.3302972\\\\\n",
       "\t3 &  27395 & Mrpl15 & mitochondrial ribosomal protein L15       &  3.429894 &  3.149591 &  3.6376380 &  3.631978 &  3.7037376 &  3.636318 &  4.3286281 &  3.9707527 &  4.4535229 &  4.016606 &  4.555237 &  4.6973455\\\\\n",
       "\t4 &  18777 & Lypla1 & lysophospholipase 1                       &  4.505933 &  4.285975 &  5.1283983 &  5.270351 &  5.3801014 &  5.185279 &  4.8889286 &  4.8635986 &  4.9031416 &  4.993363 &  5.379583 &  5.4610208\\\\\n",
       "\t5 &  21399 & Tcea1  & transcription elongation factor A (SII) 1 &  5.804007 &  5.822559 &  5.9883448 &  5.764344 &  5.7006304 &  5.615502 &  5.5801412 &  5.4087074 &  5.5797290 &  5.512504 &  5.280898 &  5.2446116\\\\\n",
       "\t6 &  58175 & Rgs20  & regulator of G-protein signaling 20       & -2.673976 & -3.401925 & -0.9031247 & -2.429318 & -3.1567286 & -3.121238 &  2.6116855 &  2.4819053 &  2.6321000 &  1.575720 &  1.072154 &  0.2315817\\\\\n",
       "\\end{tabular}\n"
      ],
      "text/markdown": [
       "\n",
       "A data.frame: 6 × 15\n",
       "\n",
       "| <!--/--> | ENTREZID &lt;int&gt; | SYMBOL &lt;chr&gt; | GENENAME &lt;chr&gt; | MCL1.DG &lt;dbl&gt; | MCL1.DH &lt;dbl&gt; | MCL1.DI &lt;dbl&gt; | MCL1.DJ &lt;dbl&gt; | MCL1.DK &lt;dbl&gt; | MCL1.DL &lt;dbl&gt; | MCL1.LA &lt;dbl&gt; | MCL1.LB &lt;dbl&gt; | MCL1.LC &lt;dbl&gt; | MCL1.LD &lt;dbl&gt; | MCL1.LE &lt;dbl&gt; | MCL1.LF &lt;dbl&gt; |\n",
       "|---|---|---|---|---|---|---|---|---|---|---|---|---|---|---|---|\n",
       "| 1 | 497097 | Xkr4   | X-linked Kx blood group related 4         |  3.932532 |  3.507368 |  1.2723173 |  3.292541 |  3.9909851 |  3.724252 | -5.8019424 | -5.8887821 | -5.4816421 | -5.343143 | -4.709206 | -4.7226146 |\n",
       "| 2 |  20671 | Sox17  | SRY (sex determining region Y)-box 17     |  1.890808 |  2.787899 |  1.6052165 |  2.121856 |  0.9642868 |  1.923156 | -0.7575483 | -0.2163568 | -0.2721888 | -1.255680 | -1.901851 | -0.3302972 |\n",
       "| 3 |  27395 | Mrpl15 | mitochondrial ribosomal protein L15       |  3.429894 |  3.149591 |  3.6376380 |  3.631978 |  3.7037376 |  3.636318 |  4.3286281 |  3.9707527 |  4.4535229 |  4.016606 |  4.555237 |  4.6973455 |\n",
       "| 4 |  18777 | Lypla1 | lysophospholipase 1                       |  4.505933 |  4.285975 |  5.1283983 |  5.270351 |  5.3801014 |  5.185279 |  4.8889286 |  4.8635986 |  4.9031416 |  4.993363 |  5.379583 |  5.4610208 |\n",
       "| 5 |  21399 | Tcea1  | transcription elongation factor A (SII) 1 |  5.804007 |  5.822559 |  5.9883448 |  5.764344 |  5.7006304 |  5.615502 |  5.5801412 |  5.4087074 |  5.5797290 |  5.512504 |  5.280898 |  5.2446116 |\n",
       "| 6 |  58175 | Rgs20  | regulator of G-protein signaling 20       | -2.673976 | -3.401925 | -0.9031247 | -2.429318 | -3.1567286 | -3.121238 |  2.6116855 |  2.4819053 |  2.6321000 |  1.575720 |  1.072154 |  0.2315817 |\n",
       "\n"
      ],
      "text/plain": [
       "  ENTREZID SYMBOL GENENAME                                  MCL1.DG   MCL1.DH  \n",
       "1 497097   Xkr4   X-linked Kx blood group related 4          3.932532  3.507368\n",
       "2  20671   Sox17  SRY (sex determining region Y)-box 17      1.890808  2.787899\n",
       "3  27395   Mrpl15 mitochondrial ribosomal protein L15        3.429894  3.149591\n",
       "4  18777   Lypla1 lysophospholipase 1                        4.505933  4.285975\n",
       "5  21399   Tcea1  transcription elongation factor A (SII) 1  5.804007  5.822559\n",
       "6  58175   Rgs20  regulator of G-protein signaling 20       -2.673976 -3.401925\n",
       "  MCL1.DI    MCL1.DJ   MCL1.DK    MCL1.DL   MCL1.LA    MCL1.LB    MCL1.LC   \n",
       "1  1.2723173  3.292541  3.9909851  3.724252 -5.8019424 -5.8887821 -5.4816421\n",
       "2  1.6052165  2.121856  0.9642868  1.923156 -0.7575483 -0.2163568 -0.2721888\n",
       "3  3.6376380  3.631978  3.7037376  3.636318  4.3286281  3.9707527  4.4535229\n",
       "4  5.1283983  5.270351  5.3801014  5.185279  4.8889286  4.8635986  4.9031416\n",
       "5  5.9883448  5.764344  5.7006304  5.615502  5.5801412  5.4087074  5.5797290\n",
       "6 -0.9031247 -2.429318 -3.1567286 -3.121238  2.6116855  2.4819053  2.6321000\n",
       "  MCL1.LD   MCL1.LE   MCL1.LF   \n",
       "1 -5.343143 -4.709206 -4.7226146\n",
       "2 -1.255680 -1.901851 -0.3302972\n",
       "3  4.016606  4.555237  4.6973455\n",
       "4  4.993363  5.379583  5.4610208\n",
       "5  5.512504  5.280898  5.2446116\n",
       "6  1.575720  1.072154  0.2315817"
      ]
     },
     "metadata": {},
     "output_type": "display_data"
    }
   ],
   "source": [
    "normalized_counts = read.table('data/heatmap/limma-voom_normalised_counts.tsv', sep='\\t', header=TRUE)\n",
    "head(normalized_counts)"
   ]
  },
  {
   "cell_type": "markdown",
   "id": "1ccfac9b",
   "metadata": {},
   "source": [
    "## 4. Match the normalized counts to our ```DE_results_sig``` dataframe.\n",
    "\n",
    "We will use ```merge``` with the ```ENTREZID``` column."
   ]
  },
  {
   "cell_type": "code",
   "execution_count": 7,
   "id": "b5a16072",
   "metadata": {},
   "outputs": [
    {
     "data": {
      "text/html": [
       "<style>\n",
       ".list-inline {list-style: none; margin:0; padding: 0}\n",
       ".list-inline>li {display: inline-block}\n",
       ".list-inline>li:not(:last-child)::after {content: \"\\00b7\"; padding: 0 .5ex}\n",
       "</style>\n",
       "<ol class=list-inline><li>'ENTREZID'</li><li>'SYMBOL'</li><li>'GENENAME'</li><li>'logFC'</li><li>'AveExpr'</li><li>'t'</li><li>'P.Value'</li><li>'adj.P.Val'</li><li>'SYMBOL_counts'</li><li>'GENENAME_counts'</li><li>'MCL1.DG'</li><li>'MCL1.DH'</li><li>'MCL1.DI'</li><li>'MCL1.DJ'</li><li>'MCL1.DK'</li><li>'MCL1.DL'</li><li>'MCL1.LA'</li><li>'MCL1.LB'</li><li>'MCL1.LC'</li><li>'MCL1.LD'</li><li>'MCL1.LE'</li><li>'MCL1.LF'</li></ol>\n"
      ],
      "text/latex": [
       "\\begin{enumerate*}\n",
       "\\item 'ENTREZID'\n",
       "\\item 'SYMBOL'\n",
       "\\item 'GENENAME'\n",
       "\\item 'logFC'\n",
       "\\item 'AveExpr'\n",
       "\\item 't'\n",
       "\\item 'P.Value'\n",
       "\\item 'adj.P.Val'\n",
       "\\item 'SYMBOL\\_counts'\n",
       "\\item 'GENENAME\\_counts'\n",
       "\\item 'MCL1.DG'\n",
       "\\item 'MCL1.DH'\n",
       "\\item 'MCL1.DI'\n",
       "\\item 'MCL1.DJ'\n",
       "\\item 'MCL1.DK'\n",
       "\\item 'MCL1.DL'\n",
       "\\item 'MCL1.LA'\n",
       "\\item 'MCL1.LB'\n",
       "\\item 'MCL1.LC'\n",
       "\\item 'MCL1.LD'\n",
       "\\item 'MCL1.LE'\n",
       "\\item 'MCL1.LF'\n",
       "\\end{enumerate*}\n"
      ],
      "text/markdown": [
       "1. 'ENTREZID'\n",
       "2. 'SYMBOL'\n",
       "3. 'GENENAME'\n",
       "4. 'logFC'\n",
       "5. 'AveExpr'\n",
       "6. 't'\n",
       "7. 'P.Value'\n",
       "8. 'adj.P.Val'\n",
       "9. 'SYMBOL_counts'\n",
       "10. 'GENENAME_counts'\n",
       "11. 'MCL1.DG'\n",
       "12. 'MCL1.DH'\n",
       "13. 'MCL1.DI'\n",
       "14. 'MCL1.DJ'\n",
       "15. 'MCL1.DK'\n",
       "16. 'MCL1.DL'\n",
       "17. 'MCL1.LA'\n",
       "18. 'MCL1.LB'\n",
       "19. 'MCL1.LC'\n",
       "20. 'MCL1.LD'\n",
       "21. 'MCL1.LE'\n",
       "22. 'MCL1.LF'\n",
       "\n",
       "\n"
      ],
      "text/plain": [
       " [1] \"ENTREZID\"        \"SYMBOL\"          \"GENENAME\"        \"logFC\"          \n",
       " [5] \"AveExpr\"         \"t\"               \"P.Value\"         \"adj.P.Val\"      \n",
       " [9] \"SYMBOL_counts\"   \"GENENAME_counts\" \"MCL1.DG\"         \"MCL1.DH\"        \n",
       "[13] \"MCL1.DI\"         \"MCL1.DJ\"         \"MCL1.DK\"         \"MCL1.DL\"        \n",
       "[17] \"MCL1.LA\"         \"MCL1.LB\"         \"MCL1.LC\"         \"MCL1.LD\"        \n",
       "[21] \"MCL1.LE\"         \"MCL1.LF\"        "
      ]
     },
     "metadata": {},
     "output_type": "display_data"
    }
   ],
   "source": [
    "DE_results_sig_counts <- merge(DE_results_sig, normalized_counts, by = 'ENTREZID', suffixes = c('','_counts'))\n",
    "names(DE_results_sig_counts)"
   ]
  },
  {
   "cell_type": "markdown",
   "id": "8aa86d34",
   "metadata": {},
   "source": [
    "## 5. Create a heatmap using ```ggplot2```.\n",
    "\n",
    "The y-axis will show the ```SYMBOL``` values.  The x-axis will show the ```MCL.*``` column names.  The colors will be defined by the respective ```MCL.*``` values.  "
   ]
  },
  {
   "cell_type": "markdown",
   "id": "c6e48096",
   "metadata": {},
   "source": [
    "### 5.1. Select only the columns that we want to show in the plot."
   ]
  },
  {
   "cell_type": "code",
   "execution_count": 19,
   "id": "8a8db098",
   "metadata": {},
   "outputs": [
    {
     "data": {
      "text/html": [
       "<table class=\"dataframe\">\n",
       "<caption>A data.frame: 15 × 13</caption>\n",
       "<thead>\n",
       "\t<tr><th scope=col>SYMBOL</th><th scope=col>MCL1.DG</th><th scope=col>MCL1.DH</th><th scope=col>MCL1.DI</th><th scope=col>MCL1.DJ</th><th scope=col>MCL1.DK</th><th scope=col>MCL1.DL</th><th scope=col>MCL1.LA</th><th scope=col>MCL1.LB</th><th scope=col>MCL1.LC</th><th scope=col>MCL1.LD</th><th scope=col>MCL1.LE</th><th scope=col>MCL1.LF</th></tr>\n",
       "\t<tr><th scope=col>&lt;chr&gt;</th><th scope=col>&lt;dbl&gt;</th><th scope=col>&lt;dbl&gt;</th><th scope=col>&lt;dbl&gt;</th><th scope=col>&lt;dbl&gt;</th><th scope=col>&lt;dbl&gt;</th><th scope=col>&lt;dbl&gt;</th><th scope=col>&lt;dbl&gt;</th><th scope=col>&lt;dbl&gt;</th><th scope=col>&lt;dbl&gt;</th><th scope=col>&lt;dbl&gt;</th><th scope=col>&lt;dbl&gt;</th><th scope=col>&lt;dbl&gt;</th></tr>\n",
       "</thead>\n",
       "<tbody>\n",
       "\t<tr><td>Cidea  </td><td>-1.3203395</td><td>-2.2644216</td><td> 0.8388071</td><td> 1.14222394</td><td> 2.9848676</td><td> 2.76140484</td><td> 1.82010940</td><td> 2.41955693</td><td> 5.2707385</td><td> 5.9520516</td><td>10.390430</td><td>10.504061</td></tr>\n",
       "\t<tr><td>Csn1s2b</td><td>-3.0365466</td><td>-2.2644216</td><td>-0.3348410</td><td> 0.01546680</td><td> 6.0006183</td><td> 5.80535430</td><td> 1.66566313</td><td> 1.07700219</td><td> 3.8014462</td><td> 4.5194940</td><td>12.763715</td><td>12.742450</td></tr>\n",
       "\t<tr><td>Slc25a1</td><td> 4.8814648</td><td> 4.5742093</td><td> 4.4075664</td><td> 4.36509782</td><td> 4.9838455</td><td> 5.11621078</td><td> 5.01103705</td><td> 4.86860791</td><td> 5.7026134</td><td> 5.7476307</td><td> 9.713845</td><td> 9.984259</td></tr>\n",
       "\t<tr><td>Egf    </td><td>-0.8897052</td><td>-1.0799971</td><td>-1.2375437</td><td>-1.35131553</td><td> 0.2492637</td><td> 0.17154354</td><td>-0.94396143</td><td>-0.75949908</td><td> 0.7851444</td><td> 1.1960155</td><td> 6.348109</td><td> 6.342802</td></tr>\n",
       "\t<tr><td>Ppl    </td><td> 5.1022737</td><td> 4.9009422</td><td> 5.7550868</td><td> 5.95102276</td><td> 6.8514198</td><td> 6.88185800</td><td> 7.35997674</td><td> 7.73201048</td><td> 8.2271184</td><td> 8.4374990</td><td> 4.646145</td><td> 4.798986</td></tr>\n",
       "\t<tr><td>Scd1   </td><td> 5.8412853</td><td> 5.5907300</td><td> 7.2686991</td><td> 6.80775910</td><td> 8.0755724</td><td> 8.08516570</td><td> 8.34693132</td><td> 8.35372216</td><td>11.0385315</td><td>11.1454343</td><td>14.322832</td><td>14.454783</td></tr>\n",
       "\t<tr><td>St6gal1</td><td> 5.6967109</td><td> 5.7112961</td><td> 5.0406027</td><td> 4.79200054</td><td> 4.2441508</td><td> 4.58058805</td><td> 3.72748813</td><td> 3.45329257</td><td> 6.9548091</td><td> 7.0707490</td><td> 9.810738</td><td> 9.909301</td></tr>\n",
       "\t<tr><td>Slc34a2</td><td>-0.2291917</td><td> 0.6159968</td><td> 2.3630156</td><td> 1.96299938</td><td> 2.9434080</td><td> 3.21861179</td><td> 3.26683586</td><td> 3.61702946</td><td> 6.3681539</td><td> 6.2460397</td><td>10.337535</td><td>10.633115</td></tr>\n",
       "\t<tr><td>Slc39a8</td><td> 3.3184898</td><td> 3.7294174</td><td> 3.7407315</td><td> 3.82911713</td><td> 3.8634179</td><td> 4.31005044</td><td> 0.91230310</td><td> 0.87940223</td><td> 0.2997176</td><td> 1.2862133</td><td> 7.400951</td><td> 7.298712</td></tr>\n",
       "\t<tr><td>Elovl5 </td><td> 5.7054019</td><td> 5.7018872</td><td> 6.0124456</td><td> 5.81173822</td><td> 6.3339217</td><td> 6.34432819</td><td> 5.29543135</td><td> 5.25012962</td><td> 6.1982777</td><td> 6.4427178</td><td> 9.146733</td><td> 9.219442</td></tr>\n",
       "\t<tr><td>Ddah1  </td><td>-0.4176367</td><td>-0.6794591</td><td>-1.0062182</td><td>-0.04465419</td><td> 0.7881298</td><td> 0.57920151</td><td>-0.02058271</td><td> 0.04195524</td><td> 0.2997176</td><td> 0.8856754</td><td> 6.956574</td><td> 6.737329</td></tr>\n",
       "\t<tr><td>Slc39a4</td><td> 2.7221525</td><td> 3.0276908</td><td> 2.1755322</td><td> 1.99321399</td><td>-0.1932545</td><td>-0.01690155</td><td> 3.07150169</td><td> 2.92820153</td><td> 6.4729177</td><td> 6.5268360</td><td> 2.430346</td><td> 1.847241</td></tr>\n",
       "\t<tr><td>Acacb  </td><td> 2.8600021</td><td> 3.3556315</td><td> 3.0686170</td><td> 3.17883408</td><td> 3.5409340</td><td> 3.84454607</td><td> 2.74880436</td><td> 3.26856484</td><td> 4.6719099</td><td> 4.7269776</td><td> 8.906309</td><td> 9.119834</td></tr>\n",
       "\t<tr><td>Elovl6 </td><td> 3.9937264</td><td> 4.0023649</td><td> 4.3408700</td><td> 4.17059480</td><td> 5.1570614</td><td> 5.15209117</td><td> 4.88718198</td><td> 4.47206499</td><td> 4.5777023</td><td> 4.3451070</td><td> 7.703629</td><td> 7.588850</td></tr>\n",
       "\t<tr><td>Slc30a2</td><td> 0.9505144</td><td> 1.3314292</td><td> 0.9253948</td><td> 0.28340000</td><td> 0.8611933</td><td> 0.78565238</td><td> 1.66566313</td><td> 1.33038642</td><td> 4.4146903</td><td> 4.4913277</td><td> 7.657390</td><td> 7.652696</td></tr>\n",
       "</tbody>\n",
       "</table>\n"
      ],
      "text/latex": [
       "A data.frame: 15 × 13\n",
       "\\begin{tabular}{lllllllllllll}\n",
       " SYMBOL & MCL1.DG & MCL1.DH & MCL1.DI & MCL1.DJ & MCL1.DK & MCL1.DL & MCL1.LA & MCL1.LB & MCL1.LC & MCL1.LD & MCL1.LE & MCL1.LF\\\\\n",
       " <chr> & <dbl> & <dbl> & <dbl> & <dbl> & <dbl> & <dbl> & <dbl> & <dbl> & <dbl> & <dbl> & <dbl> & <dbl>\\\\\n",
       "\\hline\n",
       "\t Cidea   & -1.3203395 & -2.2644216 &  0.8388071 &  1.14222394 &  2.9848676 &  2.76140484 &  1.82010940 &  2.41955693 &  5.2707385 &  5.9520516 & 10.390430 & 10.504061\\\\\n",
       "\t Csn1s2b & -3.0365466 & -2.2644216 & -0.3348410 &  0.01546680 &  6.0006183 &  5.80535430 &  1.66566313 &  1.07700219 &  3.8014462 &  4.5194940 & 12.763715 & 12.742450\\\\\n",
       "\t Slc25a1 &  4.8814648 &  4.5742093 &  4.4075664 &  4.36509782 &  4.9838455 &  5.11621078 &  5.01103705 &  4.86860791 &  5.7026134 &  5.7476307 &  9.713845 &  9.984259\\\\\n",
       "\t Egf     & -0.8897052 & -1.0799971 & -1.2375437 & -1.35131553 &  0.2492637 &  0.17154354 & -0.94396143 & -0.75949908 &  0.7851444 &  1.1960155 &  6.348109 &  6.342802\\\\\n",
       "\t Ppl     &  5.1022737 &  4.9009422 &  5.7550868 &  5.95102276 &  6.8514198 &  6.88185800 &  7.35997674 &  7.73201048 &  8.2271184 &  8.4374990 &  4.646145 &  4.798986\\\\\n",
       "\t Scd1    &  5.8412853 &  5.5907300 &  7.2686991 &  6.80775910 &  8.0755724 &  8.08516570 &  8.34693132 &  8.35372216 & 11.0385315 & 11.1454343 & 14.322832 & 14.454783\\\\\n",
       "\t St6gal1 &  5.6967109 &  5.7112961 &  5.0406027 &  4.79200054 &  4.2441508 &  4.58058805 &  3.72748813 &  3.45329257 &  6.9548091 &  7.0707490 &  9.810738 &  9.909301\\\\\n",
       "\t Slc34a2 & -0.2291917 &  0.6159968 &  2.3630156 &  1.96299938 &  2.9434080 &  3.21861179 &  3.26683586 &  3.61702946 &  6.3681539 &  6.2460397 & 10.337535 & 10.633115\\\\\n",
       "\t Slc39a8 &  3.3184898 &  3.7294174 &  3.7407315 &  3.82911713 &  3.8634179 &  4.31005044 &  0.91230310 &  0.87940223 &  0.2997176 &  1.2862133 &  7.400951 &  7.298712\\\\\n",
       "\t Elovl5  &  5.7054019 &  5.7018872 &  6.0124456 &  5.81173822 &  6.3339217 &  6.34432819 &  5.29543135 &  5.25012962 &  6.1982777 &  6.4427178 &  9.146733 &  9.219442\\\\\n",
       "\t Ddah1   & -0.4176367 & -0.6794591 & -1.0062182 & -0.04465419 &  0.7881298 &  0.57920151 & -0.02058271 &  0.04195524 &  0.2997176 &  0.8856754 &  6.956574 &  6.737329\\\\\n",
       "\t Slc39a4 &  2.7221525 &  3.0276908 &  2.1755322 &  1.99321399 & -0.1932545 & -0.01690155 &  3.07150169 &  2.92820153 &  6.4729177 &  6.5268360 &  2.430346 &  1.847241\\\\\n",
       "\t Acacb   &  2.8600021 &  3.3556315 &  3.0686170 &  3.17883408 &  3.5409340 &  3.84454607 &  2.74880436 &  3.26856484 &  4.6719099 &  4.7269776 &  8.906309 &  9.119834\\\\\n",
       "\t Elovl6  &  3.9937264 &  4.0023649 &  4.3408700 &  4.17059480 &  5.1570614 &  5.15209117 &  4.88718198 &  4.47206499 &  4.5777023 &  4.3451070 &  7.703629 &  7.588850\\\\\n",
       "\t Slc30a2 &  0.9505144 &  1.3314292 &  0.9253948 &  0.28340000 &  0.8611933 &  0.78565238 &  1.66566313 &  1.33038642 &  4.4146903 &  4.4913277 &  7.657390 &  7.652696\\\\\n",
       "\\end{tabular}\n"
      ],
      "text/markdown": [
       "\n",
       "A data.frame: 15 × 13\n",
       "\n",
       "| SYMBOL &lt;chr&gt; | MCL1.DG &lt;dbl&gt; | MCL1.DH &lt;dbl&gt; | MCL1.DI &lt;dbl&gt; | MCL1.DJ &lt;dbl&gt; | MCL1.DK &lt;dbl&gt; | MCL1.DL &lt;dbl&gt; | MCL1.LA &lt;dbl&gt; | MCL1.LB &lt;dbl&gt; | MCL1.LC &lt;dbl&gt; | MCL1.LD &lt;dbl&gt; | MCL1.LE &lt;dbl&gt; | MCL1.LF &lt;dbl&gt; |\n",
       "|---|---|---|---|---|---|---|---|---|---|---|---|---|\n",
       "| Cidea   | -1.3203395 | -2.2644216 |  0.8388071 |  1.14222394 |  2.9848676 |  2.76140484 |  1.82010940 |  2.41955693 |  5.2707385 |  5.9520516 | 10.390430 | 10.504061 |\n",
       "| Csn1s2b | -3.0365466 | -2.2644216 | -0.3348410 |  0.01546680 |  6.0006183 |  5.80535430 |  1.66566313 |  1.07700219 |  3.8014462 |  4.5194940 | 12.763715 | 12.742450 |\n",
       "| Slc25a1 |  4.8814648 |  4.5742093 |  4.4075664 |  4.36509782 |  4.9838455 |  5.11621078 |  5.01103705 |  4.86860791 |  5.7026134 |  5.7476307 |  9.713845 |  9.984259 |\n",
       "| Egf     | -0.8897052 | -1.0799971 | -1.2375437 | -1.35131553 |  0.2492637 |  0.17154354 | -0.94396143 | -0.75949908 |  0.7851444 |  1.1960155 |  6.348109 |  6.342802 |\n",
       "| Ppl     |  5.1022737 |  4.9009422 |  5.7550868 |  5.95102276 |  6.8514198 |  6.88185800 |  7.35997674 |  7.73201048 |  8.2271184 |  8.4374990 |  4.646145 |  4.798986 |\n",
       "| Scd1    |  5.8412853 |  5.5907300 |  7.2686991 |  6.80775910 |  8.0755724 |  8.08516570 |  8.34693132 |  8.35372216 | 11.0385315 | 11.1454343 | 14.322832 | 14.454783 |\n",
       "| St6gal1 |  5.6967109 |  5.7112961 |  5.0406027 |  4.79200054 |  4.2441508 |  4.58058805 |  3.72748813 |  3.45329257 |  6.9548091 |  7.0707490 |  9.810738 |  9.909301 |\n",
       "| Slc34a2 | -0.2291917 |  0.6159968 |  2.3630156 |  1.96299938 |  2.9434080 |  3.21861179 |  3.26683586 |  3.61702946 |  6.3681539 |  6.2460397 | 10.337535 | 10.633115 |\n",
       "| Slc39a8 |  3.3184898 |  3.7294174 |  3.7407315 |  3.82911713 |  3.8634179 |  4.31005044 |  0.91230310 |  0.87940223 |  0.2997176 |  1.2862133 |  7.400951 |  7.298712 |\n",
       "| Elovl5  |  5.7054019 |  5.7018872 |  6.0124456 |  5.81173822 |  6.3339217 |  6.34432819 |  5.29543135 |  5.25012962 |  6.1982777 |  6.4427178 |  9.146733 |  9.219442 |\n",
       "| Ddah1   | -0.4176367 | -0.6794591 | -1.0062182 | -0.04465419 |  0.7881298 |  0.57920151 | -0.02058271 |  0.04195524 |  0.2997176 |  0.8856754 |  6.956574 |  6.737329 |\n",
       "| Slc39a4 |  2.7221525 |  3.0276908 |  2.1755322 |  1.99321399 | -0.1932545 | -0.01690155 |  3.07150169 |  2.92820153 |  6.4729177 |  6.5268360 |  2.430346 |  1.847241 |\n",
       "| Acacb   |  2.8600021 |  3.3556315 |  3.0686170 |  3.17883408 |  3.5409340 |  3.84454607 |  2.74880436 |  3.26856484 |  4.6719099 |  4.7269776 |  8.906309 |  9.119834 |\n",
       "| Elovl6  |  3.9937264 |  4.0023649 |  4.3408700 |  4.17059480 |  5.1570614 |  5.15209117 |  4.88718198 |  4.47206499 |  4.5777023 |  4.3451070 |  7.703629 |  7.588850 |\n",
       "| Slc30a2 |  0.9505144 |  1.3314292 |  0.9253948 |  0.28340000 |  0.8611933 |  0.78565238 |  1.66566313 |  1.33038642 |  4.4146903 |  4.4913277 |  7.657390 |  7.652696 |\n",
       "\n"
      ],
      "text/plain": [
       "   SYMBOL  MCL1.DG    MCL1.DH    MCL1.DI    MCL1.DJ     MCL1.DK    MCL1.DL    \n",
       "1  Cidea   -1.3203395 -2.2644216  0.8388071  1.14222394  2.9848676  2.76140484\n",
       "2  Csn1s2b -3.0365466 -2.2644216 -0.3348410  0.01546680  6.0006183  5.80535430\n",
       "3  Slc25a1  4.8814648  4.5742093  4.4075664  4.36509782  4.9838455  5.11621078\n",
       "4  Egf     -0.8897052 -1.0799971 -1.2375437 -1.35131553  0.2492637  0.17154354\n",
       "5  Ppl      5.1022737  4.9009422  5.7550868  5.95102276  6.8514198  6.88185800\n",
       "6  Scd1     5.8412853  5.5907300  7.2686991  6.80775910  8.0755724  8.08516570\n",
       "7  St6gal1  5.6967109  5.7112961  5.0406027  4.79200054  4.2441508  4.58058805\n",
       "8  Slc34a2 -0.2291917  0.6159968  2.3630156  1.96299938  2.9434080  3.21861179\n",
       "9  Slc39a8  3.3184898  3.7294174  3.7407315  3.82911713  3.8634179  4.31005044\n",
       "10 Elovl5   5.7054019  5.7018872  6.0124456  5.81173822  6.3339217  6.34432819\n",
       "11 Ddah1   -0.4176367 -0.6794591 -1.0062182 -0.04465419  0.7881298  0.57920151\n",
       "12 Slc39a4  2.7221525  3.0276908  2.1755322  1.99321399 -0.1932545 -0.01690155\n",
       "13 Acacb    2.8600021  3.3556315  3.0686170  3.17883408  3.5409340  3.84454607\n",
       "14 Elovl6   3.9937264  4.0023649  4.3408700  4.17059480  5.1570614  5.15209117\n",
       "15 Slc30a2  0.9505144  1.3314292  0.9253948  0.28340000  0.8611933  0.78565238\n",
       "   MCL1.LA     MCL1.LB     MCL1.LC    MCL1.LD    MCL1.LE   MCL1.LF  \n",
       "1   1.82010940  2.41955693  5.2707385  5.9520516 10.390430 10.504061\n",
       "2   1.66566313  1.07700219  3.8014462  4.5194940 12.763715 12.742450\n",
       "3   5.01103705  4.86860791  5.7026134  5.7476307  9.713845  9.984259\n",
       "4  -0.94396143 -0.75949908  0.7851444  1.1960155  6.348109  6.342802\n",
       "5   7.35997674  7.73201048  8.2271184  8.4374990  4.646145  4.798986\n",
       "6   8.34693132  8.35372216 11.0385315 11.1454343 14.322832 14.454783\n",
       "7   3.72748813  3.45329257  6.9548091  7.0707490  9.810738  9.909301\n",
       "8   3.26683586  3.61702946  6.3681539  6.2460397 10.337535 10.633115\n",
       "9   0.91230310  0.87940223  0.2997176  1.2862133  7.400951  7.298712\n",
       "10  5.29543135  5.25012962  6.1982777  6.4427178  9.146733  9.219442\n",
       "11 -0.02058271  0.04195524  0.2997176  0.8856754  6.956574  6.737329\n",
       "12  3.07150169  2.92820153  6.4729177  6.5268360  2.430346  1.847241\n",
       "13  2.74880436  3.26856484  4.6719099  4.7269776  8.906309  9.119834\n",
       "14  4.88718198  4.47206499  4.5777023  4.3451070  7.703629  7.588850\n",
       "15  1.66566313  1.33038642  4.4146903  4.4913277  7.657390  7.652696"
      ]
     },
     "metadata": {},
     "output_type": "display_data"
    }
   ],
   "source": [
    "# create a mask that has values of True for the columns that have names with 'SYMBOL' and 'MCL1.''\n",
    "mask <- grepl('MCL1.|SYMBOL', names(DE_results_sig_counts))\n",
    "\n",
    "# remove the 'SYMBOL_counts' column (from the normalized counts file). \n",
    "# Note: this is only necessary here because the 'SYMBOL' column exists in both data files \n",
    "#   (and I renamed the 'SYMBOL' column in the normalized counts file to be 'SYMBOL_counts' during the merge.) \n",
    "mask <- mask & !grepl('SYMBOL_counts', names(DE_results_sig_counts))\n",
    "\n",
    "# apply the mask\n",
    "df <- DE_results_sig_counts[, mask]\n"
   ]
  },
  {
   "cell_type": "markdown",
   "id": "eb8ca671",
   "metadata": {},
   "source": [
    "### MISSING STEPS"
   ]
  },
  {
   "cell_type": "code",
   "execution_count": 26,
   "id": "0376da56",
   "metadata": {},
   "outputs": [],
   "source": [
    "# rescale"
   ]
  },
  {
   "cell_type": "code",
   "execution_count": 22,
   "id": "237517cb",
   "metadata": {},
   "outputs": [
    {
     "data": {
      "text/html": [
       "<table class=\"dataframe\">\n",
       "<caption>A tibble: 6 × 3</caption>\n",
       "<thead>\n",
       "\t<tr><th scope=col>SYMBOL</th><th scope=col>measurement</th><th scope=col>value</th></tr>\n",
       "\t<tr><th scope=col>&lt;chr&gt;</th><th scope=col>&lt;chr&gt;</th><th scope=col>&lt;dbl&gt;</th></tr>\n",
       "</thead>\n",
       "<tbody>\n",
       "\t<tr><td>Cidea</td><td>MCL1.DG</td><td>-1.3203395</td></tr>\n",
       "\t<tr><td>Cidea</td><td>MCL1.DH</td><td>-2.2644216</td></tr>\n",
       "\t<tr><td>Cidea</td><td>MCL1.DI</td><td> 0.8388071</td></tr>\n",
       "\t<tr><td>Cidea</td><td>MCL1.DJ</td><td> 1.1422239</td></tr>\n",
       "\t<tr><td>Cidea</td><td>MCL1.DK</td><td> 2.9848676</td></tr>\n",
       "\t<tr><td>Cidea</td><td>MCL1.DL</td><td> 2.7614048</td></tr>\n",
       "</tbody>\n",
       "</table>\n"
      ],
      "text/latex": [
       "A tibble: 6 × 3\n",
       "\\begin{tabular}{lll}\n",
       " SYMBOL & measurement & value\\\\\n",
       " <chr> & <chr> & <dbl>\\\\\n",
       "\\hline\n",
       "\t Cidea & MCL1.DG & -1.3203395\\\\\n",
       "\t Cidea & MCL1.DH & -2.2644216\\\\\n",
       "\t Cidea & MCL1.DI &  0.8388071\\\\\n",
       "\t Cidea & MCL1.DJ &  1.1422239\\\\\n",
       "\t Cidea & MCL1.DK &  2.9848676\\\\\n",
       "\t Cidea & MCL1.DL &  2.7614048\\\\\n",
       "\\end{tabular}\n"
      ],
      "text/markdown": [
       "\n",
       "A tibble: 6 × 3\n",
       "\n",
       "| SYMBOL &lt;chr&gt; | measurement &lt;chr&gt; | value &lt;dbl&gt; |\n",
       "|---|---|---|\n",
       "| Cidea | MCL1.DG | -1.3203395 |\n",
       "| Cidea | MCL1.DH | -2.2644216 |\n",
       "| Cidea | MCL1.DI |  0.8388071 |\n",
       "| Cidea | MCL1.DJ |  1.1422239 |\n",
       "| Cidea | MCL1.DK |  2.9848676 |\n",
       "| Cidea | MCL1.DL |  2.7614048 |\n",
       "\n"
      ],
      "text/plain": [
       "  SYMBOL measurement value     \n",
       "1 Cidea  MCL1.DG     -1.3203395\n",
       "2 Cidea  MCL1.DH     -2.2644216\n",
       "3 Cidea  MCL1.DI      0.8388071\n",
       "4 Cidea  MCL1.DJ      1.1422239\n",
       "5 Cidea  MCL1.DK      2.9848676\n",
       "6 Cidea  MCL1.DL      2.7614048"
      ]
     },
     "metadata": {},
     "output_type": "display_data"
    }
   ],
   "source": [
    "# prepare data for ggplot\n",
    "df_long <- pivot_longer(\n",
    "    data = df,\n",
    "    cols = -c(SYMBOL),\n",
    "    names_to = \"measurement\",\n",
    "    values_to = \"value\"\n",
    ")\n",
    "head(df_long)"
   ]
  },
  {
   "cell_type": "markdown",
   "id": "a449648d",
   "metadata": {},
   "source": [
    "### 5.X. Use ```ggplot```'s heatmap function."
   ]
  },
  {
   "cell_type": "code",
   "execution_count": 50,
   "id": "167ea404",
   "metadata": {},
   "outputs": [
    {
     "data": {
      "image/png": "[encoded data removed]"
     },
     "metadata": {
      "image/png": {
       "height": 600,
       "width": 600
      }
     },
     "output_type": "display_data"
    }
   ],
   "source": [
    "options(jupyter.plot_mimetypes = \"image/png\", repr.plot.width = 4, repr.plot.height = 4, repr.plot.res = 300)\n",
    "\n",
    "heatmap_plot <- ggplot(data = df_long, aes(x = measurement, y = SYMBOL)) +\n",
    "    geom_tile(aes(fill = value)) +\n",
    "    scale_fill_gradient2(limits = c(-1,1), name = 'Renormalized Counts') +\n",
    "    guides(\n",
    "        size = \"none\",\n",
    "        color = guide_colorbar(title.position = \"right\")\n",
    "    ) +\n",
    "    theme(axis.text.y = element_text(size = 6), \n",
    "        legend.key.height = unit(0.25, \"in\"),\n",
    "        legend.title = element_text(size = 12, angle = 90),\n",
    "        legend.title.align = 0.5,\n",
    "        legend.direction = \"vertical\"\n",
    "    ) +\n",
    "    labs(x = '', y = '') \n",
    "\n",
    "heatmap_plot"
   ]
  },
  {
   "cell_type": "code",
   "execution_count": null,
   "id": "86da74d5",
   "metadata": {},
   "outputs": [],
   "source": []
  }
 ],
 "metadata": {
  "kernelspec": {
   "display_name": "R",
   "language": "R",
   "name": "ir"
  },
  "language_info": {
   "codemirror_mode": "r",
   "file_extension": ".r",
   "mimetype": "text/x-r-source",
   "name": "R",
   "pygments_lexer": "r",
   "version": "4.1.3"
  }
 },
 "nbformat": 4,
 "nbformat_minor": 5
}
