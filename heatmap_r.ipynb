{
 "cells": [
  {
   "cell_type": "markdown",
   "id": "d7aa4282",
   "metadata": {},
   "source": [
    "# Heatmap of differentially expressed genes in an RNA-seq dataset\n",
    "\n",
    "This notebook follows closely to [this online tutorial](https://training.galaxyproject.org/training-material/topics/transcriptomics/tutorials/rna-seq-viz-with-heatmap2/tutorial.html#create-heatmap-of-top-de-genes).  The datasets are available [here](https://zenodo.org/record/2529926#.YwaRPfHMIas) and should be downloaded into the ```data/heatmap``` directory (which you may have to create).\n",
    "\n",
    "\n",
    "*Note:* this Jupyter notebook was converted to an R markdown file using the following command in R :\n",
    "\n",
    "```nb_rmd = rmarkdown:::convert_ipynb('heatmap_r.ipynb')```\n",
    "\n",
    "___\n",
    "*Author : Aaron M Geller, Aug. 2022*"
   ]
  },
  {
   "cell_type": "code",
   "execution_count": 1,
   "id": "5d85750b",
   "metadata": {},
   "outputs": [],
   "source": [
    "# import the necessary libraries\n",
    "#library(dplyr)\n",
    "\n",
    "library(ggplot2)"
   ]
  },
  {
   "cell_type": "markdown",
   "id": "51e4fc68",
   "metadata": {},
   "source": [
    "## 1. Read in the DE results data using ```pandas```."
   ]
  },
  {
   "cell_type": "code",
   "execution_count": 2,
   "id": "cd191f43",
   "metadata": {
    "scrolled": true
   },
   "outputs": [
    {
     "name": "stderr",
     "output_type": "stream",
     "text": [
      "Warning message in scan(file = file, what = what, sep = sep, quote = quote, dec = dec, :\n",
      "\"EOF within quoted string\"\n",
      "Warning message in scan(file = file, what = what, sep = sep, quote = quote, dec = dec, :\n",
      "\"number of items read is not a multiple of the number of columns\"\n"
     ]
    },
    {
     "data": {
      "text/html": [
       "<table class=\"dataframe\">\n",
       "<caption>A data.frame: 6 × 8</caption>\n",
       "<thead>\n",
       "\t<tr><th></th><th scope=col>ENTREZID</th><th scope=col>SYMBOL</th><th scope=col>GENENAME</th><th scope=col>logFC</th><th scope=col>AveExpr</th><th scope=col>t</th><th scope=col>P.Value</th><th scope=col>adj.P.Val</th></tr>\n",
       "\t<tr><th></th><th scope=col>&lt;int&gt;</th><th scope=col>&lt;chr&gt;</th><th scope=col>&lt;chr&gt;</th><th scope=col>&lt;dbl&gt;</th><th scope=col>&lt;dbl&gt;</th><th scope=col>&lt;dbl&gt;</th><th scope=col>&lt;dbl&gt;</th><th scope=col>&lt;dbl&gt;</th></tr>\n",
       "</thead>\n",
       "<tbody>\n",
       "\t<tr><th scope=row>1</th><td> 12992</td><td>Csn1s2b</td><td>casein alpha s2-like B                                                         </td><td>-8.603611</td><td>3.5629500</td><td>-43.79650</td><td>3.830650e-15</td><td>6.053959e-11</td></tr>\n",
       "\t<tr><th scope=row>2</th><td> 13358</td><td>Slc25a1</td><td>solute carrier family 25 (mitochondrial carrier, citrate transporter), member 1</td><td>-4.124175</td><td>5.7796989</td><td>-29.90785</td><td>1.758595e-13</td><td>1.389642e-09</td></tr>\n",
       "\t<tr><th scope=row>3</th><td> 11941</td><td>Atp2b2 </td><td>ATPase, Ca++ transporting, plasma membrane 2                                   </td><td>-7.386986</td><td>1.2821431</td><td>-27.81950</td><td>4.836363e-13</td><td>2.432800e-09</td></tr>\n",
       "\t<tr><th scope=row>4</th><td> 20531</td><td>Slc34a2</td><td>solute carrier family 34 (sodium phosphate), member 2                          </td><td>-4.177812</td><td>4.2786290</td><td>-27.07272</td><td>6.157428e-13</td><td>2.432800e-09</td></tr>\n",
       "\t<tr><th scope=row>5</th><td>100705</td><td>Acacb  </td><td>acetyl-Coenzyme A carboxylase beta                                             </td><td>-4.314320</td><td>4.4409137</td><td>-25.22357</td><td>1.499977e-12</td><td>4.741129e-09</td></tr>\n",
       "\t<tr><th scope=row>6</th><td> 13645</td><td>Egf    </td><td>epidermal growth factor                                                        </td><td>-5.362664</td><td>0.7359047</td><td>-24.59930</td><td>2.116244e-12</td><td>5.574188e-09</td></tr>\n",
       "</tbody>\n",
       "</table>\n"
      ],
      "text/latex": [
       "A data.frame: 6 × 8\n",
       "\\begin{tabular}{r|llllllll}\n",
       "  & ENTREZID & SYMBOL & GENENAME & logFC & AveExpr & t & P.Value & adj.P.Val\\\\\n",
       "  & <int> & <chr> & <chr> & <dbl> & <dbl> & <dbl> & <dbl> & <dbl>\\\\\n",
       "\\hline\n",
       "\t1 &  12992 & Csn1s2b & casein alpha s2-like B                                                          & -8.603611 & 3.5629500 & -43.79650 & 3.830650e-15 & 6.053959e-11\\\\\n",
       "\t2 &  13358 & Slc25a1 & solute carrier family 25 (mitochondrial carrier, citrate transporter), member 1 & -4.124175 & 5.7796989 & -29.90785 & 1.758595e-13 & 1.389642e-09\\\\\n",
       "\t3 &  11941 & Atp2b2  & ATPase, Ca++ transporting, plasma membrane 2                                    & -7.386986 & 1.2821431 & -27.81950 & 4.836363e-13 & 2.432800e-09\\\\\n",
       "\t4 &  20531 & Slc34a2 & solute carrier family 34 (sodium phosphate), member 2                           & -4.177812 & 4.2786290 & -27.07272 & 6.157428e-13 & 2.432800e-09\\\\\n",
       "\t5 & 100705 & Acacb   & acetyl-Coenzyme A carboxylase beta                                              & -4.314320 & 4.4409137 & -25.22357 & 1.499977e-12 & 4.741129e-09\\\\\n",
       "\t6 &  13645 & Egf     & epidermal growth factor                                                         & -5.362664 & 0.7359047 & -24.59930 & 2.116244e-12 & 5.574188e-09\\\\\n",
       "\\end{tabular}\n"
      ],
      "text/markdown": [
       "\n",
       "A data.frame: 6 × 8\n",
       "\n",
       "| <!--/--> | ENTREZID &lt;int&gt; | SYMBOL &lt;chr&gt; | GENENAME &lt;chr&gt; | logFC &lt;dbl&gt; | AveExpr &lt;dbl&gt; | t &lt;dbl&gt; | P.Value &lt;dbl&gt; | adj.P.Val &lt;dbl&gt; |\n",
       "|---|---|---|---|---|---|---|---|---|\n",
       "| 1 |  12992 | Csn1s2b | casein alpha s2-like B                                                          | -8.603611 | 3.5629500 | -43.79650 | 3.830650e-15 | 6.053959e-11 |\n",
       "| 2 |  13358 | Slc25a1 | solute carrier family 25 (mitochondrial carrier, citrate transporter), member 1 | -4.124175 | 5.7796989 | -29.90785 | 1.758595e-13 | 1.389642e-09 |\n",
       "| 3 |  11941 | Atp2b2  | ATPase, Ca++ transporting, plasma membrane 2                                    | -7.386986 | 1.2821431 | -27.81950 | 4.836363e-13 | 2.432800e-09 |\n",
       "| 4 |  20531 | Slc34a2 | solute carrier family 34 (sodium phosphate), member 2                           | -4.177812 | 4.2786290 | -27.07272 | 6.157428e-13 | 2.432800e-09 |\n",
       "| 5 | 100705 | Acacb   | acetyl-Coenzyme A carboxylase beta                                              | -4.314320 | 4.4409137 | -25.22357 | 1.499977e-12 | 4.741129e-09 |\n",
       "| 6 |  13645 | Egf     | epidermal growth factor                                                         | -5.362664 | 0.7359047 | -24.59930 | 2.116244e-12 | 5.574188e-09 |\n",
       "\n"
      ],
      "text/plain": [
       "  ENTREZID SYMBOL \n",
       "1  12992   Csn1s2b\n",
       "2  13358   Slc25a1\n",
       "3  11941   Atp2b2 \n",
       "4  20531   Slc34a2\n",
       "5 100705   Acacb  \n",
       "6  13645   Egf    \n",
       "  GENENAME                                                                       \n",
       "1 casein alpha s2-like B                                                         \n",
       "2 solute carrier family 25 (mitochondrial carrier, citrate transporter), member 1\n",
       "3 ATPase, Ca++ transporting, plasma membrane 2                                   \n",
       "4 solute carrier family 34 (sodium phosphate), member 2                          \n",
       "5 acetyl-Coenzyme A carboxylase beta                                             \n",
       "6 epidermal growth factor                                                        \n",
       "  logFC     AveExpr   t         P.Value      adj.P.Val   \n",
       "1 -8.603611 3.5629500 -43.79650 3.830650e-15 6.053959e-11\n",
       "2 -4.124175 5.7796989 -29.90785 1.758595e-13 1.389642e-09\n",
       "3 -7.386986 1.2821431 -27.81950 4.836363e-13 2.432800e-09\n",
       "4 -4.177812 4.2786290 -27.07272 6.157428e-13 2.432800e-09\n",
       "5 -4.314320 4.4409137 -25.22357 1.499977e-12 4.741129e-09\n",
       "6 -5.362664 0.7359047 -24.59930 2.116244e-12 5.574188e-09"
      ]
     },
     "metadata": {},
     "output_type": "display_data"
    }
   ],
   "source": [
    "DE_results <- read.table('data/heatmap/limma-voom_luminalpregnant-luminallactate.tsv', sep='\\t', header=TRUE)\n",
    "head(DE_results)"
   ]
  },
  {
   "cell_type": "markdown",
   "id": "47e67e86",
   "metadata": {},
   "source": [
    "## 2. Filter the results to only include the most significant genes."
   ]
  },
  {
   "cell_type": "markdown",
   "id": "b96c167b",
   "metadata": {},
   "source": [
    "### 2.1. Set a threshold for ```adj.P.Val < 0.01``` and ```abs(logFC) > 0.58```."
   ]
  },
  {
   "cell_type": "code",
   "execution_count": 3,
   "id": "6784ed27",
   "metadata": {},
   "outputs": [
    {
     "data": {
      "text/html": [
       "<table class=\"dataframe\">\n",
       "<caption>A data.frame: 6 × 8</caption>\n",
       "<thead>\n",
       "\t<tr><th></th><th scope=col>ENTREZID</th><th scope=col>SYMBOL</th><th scope=col>GENENAME</th><th scope=col>logFC</th><th scope=col>AveExpr</th><th scope=col>t</th><th scope=col>P.Value</th><th scope=col>adj.P.Val</th></tr>\n",
       "\t<tr><th></th><th scope=col>&lt;int&gt;</th><th scope=col>&lt;chr&gt;</th><th scope=col>&lt;chr&gt;</th><th scope=col>&lt;dbl&gt;</th><th scope=col>&lt;dbl&gt;</th><th scope=col>&lt;dbl&gt;</th><th scope=col>&lt;dbl&gt;</th><th scope=col>&lt;dbl&gt;</th></tr>\n",
       "</thead>\n",
       "<tbody>\n",
       "\t<tr><th scope=row>1</th><td> 12992</td><td>Csn1s2b</td><td>casein alpha s2-like B                                                         </td><td>-8.603611</td><td>3.5629500</td><td>-43.79650</td><td>3.830650e-15</td><td>6.053959e-11</td></tr>\n",
       "\t<tr><th scope=row>2</th><td> 13358</td><td>Slc25a1</td><td>solute carrier family 25 (mitochondrial carrier, citrate transporter), member 1</td><td>-4.124175</td><td>5.7796989</td><td>-29.90785</td><td>1.758595e-13</td><td>1.389642e-09</td></tr>\n",
       "\t<tr><th scope=row>3</th><td> 11941</td><td>Atp2b2 </td><td>ATPase, Ca++ transporting, plasma membrane 2                                   </td><td>-7.386986</td><td>1.2821431</td><td>-27.81950</td><td>4.836363e-13</td><td>2.432800e-09</td></tr>\n",
       "\t<tr><th scope=row>4</th><td> 20531</td><td>Slc34a2</td><td>solute carrier family 34 (sodium phosphate), member 2                          </td><td>-4.177812</td><td>4.2786290</td><td>-27.07272</td><td>6.157428e-13</td><td>2.432800e-09</td></tr>\n",
       "\t<tr><th scope=row>5</th><td>100705</td><td>Acacb  </td><td>acetyl-Coenzyme A carboxylase beta                                             </td><td>-4.314320</td><td>4.4409137</td><td>-25.22357</td><td>1.499977e-12</td><td>4.741129e-09</td></tr>\n",
       "\t<tr><th scope=row>6</th><td> 13645</td><td>Egf    </td><td>epidermal growth factor                                                        </td><td>-5.362664</td><td>0.7359047</td><td>-24.59930</td><td>2.116244e-12</td><td>5.574188e-09</td></tr>\n",
       "</tbody>\n",
       "</table>\n"
      ],
      "text/latex": [
       "A data.frame: 6 × 8\n",
       "\\begin{tabular}{r|llllllll}\n",
       "  & ENTREZID & SYMBOL & GENENAME & logFC & AveExpr & t & P.Value & adj.P.Val\\\\\n",
       "  & <int> & <chr> & <chr> & <dbl> & <dbl> & <dbl> & <dbl> & <dbl>\\\\\n",
       "\\hline\n",
       "\t1 &  12992 & Csn1s2b & casein alpha s2-like B                                                          & -8.603611 & 3.5629500 & -43.79650 & 3.830650e-15 & 6.053959e-11\\\\\n",
       "\t2 &  13358 & Slc25a1 & solute carrier family 25 (mitochondrial carrier, citrate transporter), member 1 & -4.124175 & 5.7796989 & -29.90785 & 1.758595e-13 & 1.389642e-09\\\\\n",
       "\t3 &  11941 & Atp2b2  & ATPase, Ca++ transporting, plasma membrane 2                                    & -7.386986 & 1.2821431 & -27.81950 & 4.836363e-13 & 2.432800e-09\\\\\n",
       "\t4 &  20531 & Slc34a2 & solute carrier family 34 (sodium phosphate), member 2                           & -4.177812 & 4.2786290 & -27.07272 & 6.157428e-13 & 2.432800e-09\\\\\n",
       "\t5 & 100705 & Acacb   & acetyl-Coenzyme A carboxylase beta                                              & -4.314320 & 4.4409137 & -25.22357 & 1.499977e-12 & 4.741129e-09\\\\\n",
       "\t6 &  13645 & Egf     & epidermal growth factor                                                         & -5.362664 & 0.7359047 & -24.59930 & 2.116244e-12 & 5.574188e-09\\\\\n",
       "\\end{tabular}\n"
      ],
      "text/markdown": [
       "\n",
       "A data.frame: 6 × 8\n",
       "\n",
       "| <!--/--> | ENTREZID &lt;int&gt; | SYMBOL &lt;chr&gt; | GENENAME &lt;chr&gt; | logFC &lt;dbl&gt; | AveExpr &lt;dbl&gt; | t &lt;dbl&gt; | P.Value &lt;dbl&gt; | adj.P.Val &lt;dbl&gt; |\n",
       "|---|---|---|---|---|---|---|---|---|\n",
       "| 1 |  12992 | Csn1s2b | casein alpha s2-like B                                                          | -8.603611 | 3.5629500 | -43.79650 | 3.830650e-15 | 6.053959e-11 |\n",
       "| 2 |  13358 | Slc25a1 | solute carrier family 25 (mitochondrial carrier, citrate transporter), member 1 | -4.124175 | 5.7796989 | -29.90785 | 1.758595e-13 | 1.389642e-09 |\n",
       "| 3 |  11941 | Atp2b2  | ATPase, Ca++ transporting, plasma membrane 2                                    | -7.386986 | 1.2821431 | -27.81950 | 4.836363e-13 | 2.432800e-09 |\n",
       "| 4 |  20531 | Slc34a2 | solute carrier family 34 (sodium phosphate), member 2                           | -4.177812 | 4.2786290 | -27.07272 | 6.157428e-13 | 2.432800e-09 |\n",
       "| 5 | 100705 | Acacb   | acetyl-Coenzyme A carboxylase beta                                              | -4.314320 | 4.4409137 | -25.22357 | 1.499977e-12 | 4.741129e-09 |\n",
       "| 6 |  13645 | Egf     | epidermal growth factor                                                         | -5.362664 | 0.7359047 | -24.59930 | 2.116244e-12 | 5.574188e-09 |\n",
       "\n"
      ],
      "text/plain": [
       "  ENTREZID SYMBOL \n",
       "1  12992   Csn1s2b\n",
       "2  13358   Slc25a1\n",
       "3  11941   Atp2b2 \n",
       "4  20531   Slc34a2\n",
       "5 100705   Acacb  \n",
       "6  13645   Egf    \n",
       "  GENENAME                                                                       \n",
       "1 casein alpha s2-like B                                                         \n",
       "2 solute carrier family 25 (mitochondrial carrier, citrate transporter), member 1\n",
       "3 ATPase, Ca++ transporting, plasma membrane 2                                   \n",
       "4 solute carrier family 34 (sodium phosphate), member 2                          \n",
       "5 acetyl-Coenzyme A carboxylase beta                                             \n",
       "6 epidermal growth factor                                                        \n",
       "  logFC     AveExpr   t         P.Value      adj.P.Val   \n",
       "1 -8.603611 3.5629500 -43.79650 3.830650e-15 6.053959e-11\n",
       "2 -4.124175 5.7796989 -29.90785 1.758595e-13 1.389642e-09\n",
       "3 -7.386986 1.2821431 -27.81950 4.836363e-13 2.432800e-09\n",
       "4 -4.177812 4.2786290 -27.07272 6.157428e-13 2.432800e-09\n",
       "5 -4.314320 4.4409137 -25.22357 1.499977e-12 4.741129e-09\n",
       "6 -5.362664 0.7359047 -24.59930 2.116244e-12 5.574188e-09"
      ]
     },
     "metadata": {},
     "output_type": "display_data"
    }
   ],
   "source": [
    "df <- DE_results[which(DE_results['adj.P.Val'] < 0.01 & abs(DE_results['logFC']) > 0.58),]\n",
    "head(df)"
   ]
  },
  {
   "cell_type": "code",
   "execution_count": null,
   "id": "ce6f0285",
   "metadata": {},
   "outputs": [],
   "source": []
  }
 ],
 "metadata": {
  "kernelspec": {
   "display_name": "R",
   "language": "R",
   "name": "ir"
  },
  "language_info": {
   "codemirror_mode": "r",
   "file_extension": ".r",
   "mimetype": "text/x-r-source",
   "name": "R",
   "pygments_lexer": "r",
   "version": "4.1.3"
  }
 },
 "nbformat": 4,
 "nbformat_minor": 5
}
