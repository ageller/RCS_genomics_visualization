{
 "cells": [
  {
   "cell_type": "markdown",
   "id": "8ec5d077",
   "metadata": {},
   "source": [
    "# Circos plot of cancer genomics \n",
    "\n",
    "This notebook follows closely to [this online tutorial](https://training.galaxyproject.org/training-material/topics/visualisation/tutorials/circos/tutorial.html#example-cancer-genomics).  The datasets are available [here](https://zenodo.org/record/4494146/#.Y0cinnbMIQg) and should be downloaded into the ```data``` directory (which you may have to create).\n",
    "\n",
    "We will use the [pyCircos](https://github.com/ponnhide/pyCircos) package in Python. \n",
    "\n",
    "*Note:* this Jupyter notebook was converted to an html file using the following command in a terminal :\n",
    "\n",
    "```\n",
    "jupyter nbconvert --execute --to html circos.ipynb\n",
    "```\n",
    "___\n",
    "*Author : Aaron M Geller, Dec. 2022*"
   ]
  },
  {
   "cell_type": "code",
   "execution_count": null,
   "id": "d8ebfce4",
   "metadata": {},
   "outputs": [],
   "source": [
    "# Run this cell to create the data directory and download the sample data.\n",
    "# On subsequent runs of this notebook, you can skip this step\n",
    "# Note: the first two files here are large (~40MB each). So, this cell may take a while to run.\n",
    "# If they don't download properly here, you can simply download them manually from the \n",
    "#   zenodo website: https://zenodo.org/record/4494146/\n",
    "\n",
    "directory = file.path(getwd(), 'data')\n",
    "dir.create(directory)\n",
    "\n",
    "download.file('https://zenodo.org/record/4494146/files/VCaP_Copy-Number.tsv?download=1', \n",
    "    file.path(directory, 'VCaP_Copy-Number.tsv'))\n",
    "download.file('https://zenodo.org/record/4494146/files/VCaP_B-allele-Frequency.tsv?download=1', \n",
    "    file.path(directory, 'VCaP_B-allele-Frequency.tsv'))\n",
    "download.file('https://zenodo.org/record/4494146/files/VCaP-highConfidenceJunctions.tsv?download=1', \n",
    "    file.path(directory, 'VCaP-highConfidenceJunctions.tsv'))\n",
    "download.file('https://zenodo.org/record/4494146/files/hg18_karyotype_withbands.txt?download=1', \n",
    "    file.path(directory, 'hg18_karyotype_withbands.txt'))"
   ]
  },
  {
   "cell_type": "code",
   "execution_count": null,
   "id": "a9970ce1",
   "metadata": {},
   "outputs": [],
   "source": [
    "library(RCircos)\n",
    "library(stringr)\n",
    "library(data.table)"
   ]
  },
  {
   "cell_type": "markdown",
   "id": "dcfd9393",
   "metadata": {},
   "source": [
    "## 1. Read in the Karyotype Configuration data using [`read.table`](https://www.rdocumentation.org/packages/utils/versions/3.6.2/topics/read.table)."
   ]
  },
  {
   "cell_type": "code",
   "execution_count": null,
   "id": "637c4264",
   "metadata": {},
   "outputs": [],
   "source": [
    "# read in the data and define the columns\n",
    "# skip extra rows at the top that are not useful here\n",
    "dfChrom <- read.table('data/hg18_karyotype_withbands.txt', sep = \"\" , header = FALSE, skip = 24)\n",
    "colnames(dfChrom) <- c('','chromosome','band','','chromStart','chromEnd','Stain')\n",
    "head(dfChrom)"
   ]
  },
  {
   "cell_type": "markdown",
   "id": "f0dd6bbe",
   "metadata": {},
   "source": [
    "## 1.1 Modify the table so that it can be used more easily with RCircos."
   ]
  },
  {
   "cell_type": "code",
   "execution_count": null,
   "id": "295b4967",
   "metadata": {},
   "outputs": [],
   "source": [
    "# reorder to columns for RCircos (and drop a few that are unnecessary)\n",
    "dfChrom <- dfChrom[, c(2, 5, 6, 3, 7)]\n",
    "\n",
    "# create a column with the chromosome number or string for sorting\n",
    "dfChrom$chromosomeID <- gsub(\"chr\",\"\",as.character(dfChrom$chromosome))\n",
    "\n",
    "# sort by chromosomeID\n",
    "dfChrom <- dfChrom[str_order(dfChrom$chromosomeID, numeric = TRUE),]\n",
    "\n",
    "head(dfChrom)"
   ]
  },
  {
   "cell_type": "markdown",
   "id": "e4bb8759",
   "metadata": {},
   "source": [
    "## 1.2 Create the initial circos figure showing the Ideogram."
   ]
  },
  {
   "cell_type": "code",
   "execution_count": null,
   "id": "de1e40ce",
   "metadata": {},
   "outputs": [],
   "source": [
    "# for displaying in Jupyter\n",
    "options(jupyter.plot_mimetypes = \"image/png\", repr.plot.width = 6, repr.plot.height = 6, repr.plot.res = 300)\n",
    "\n",
    "# add the data to RCircos\n",
    "RCircos.Set.Core.Components(cyto.info = dfChrom, chr.exclude = NULL, tracks.inside = 4, tracks.outside = 0)\n",
    "RCircos.Set.Plot.Area()\n",
    "RCircos.Chromosome.Ideogram.Plot() "
   ]
  },
  {
   "cell_type": "markdown",
   "id": "56d34c44",
   "metadata": {},
   "source": [
    "## 2. Read in the Copy Number data using [`read.table`](https://www.rdocumentation.org/packages/utils/versions/3.6.2/topics/read.table)."
   ]
  },
  {
   "cell_type": "code",
   "execution_count": null,
   "id": "1a407c34",
   "metadata": {},
   "outputs": [],
   "source": [
    "# read in the copy number variation (CNV) data and fix the column names\n",
    "dfCNV <- read.table('data/VCaP_Copy-Number.tsv', header = TRUE)\n",
    "colnames(dfCNV) <- c('chromosome','start','stop','value','')\n",
    "head(dfCNV)"
   ]
  },
  {
   "cell_type": "markdown",
   "id": "1fd91dee",
   "metadata": {},
   "source": [
    "## 2.1 Modify the table so that it can be used more easily with RCircos."
   ]
  },
  {
   "cell_type": "code",
   "execution_count": null,
   "id": "4a3d5f15",
   "metadata": {},
   "outputs": [],
   "source": [
    "# drop the unnecessary last column\n",
    "dfCNV <- dfCNV[, c(1, 2, 3, 4)]\n",
    "\n",
    "# remove any extra chromosomes that are not in the ideogram\n",
    "extras <- c('chrMT')\n",
    "dfCNV <- subset(dfCNV, !(chromosome %in% extras))\n",
    "\n",
    "# create a column with the chromosome number or string for sorting\n",
    "dfCNV$chromosomeID <- gsub(\"chr\",\"\",as.character(dfCNV$chromosome))\n",
    "\n",
    "# randomly select 25000 lines (otherwise the plot is too full and takes too long to create)\n",
    "dfCNV <- dfCNV[sample(nrow(dfCNV), 25000), ]\n",
    "\n",
    "# sort by chromosomeID\n",
    "dfCNV <- dfCNV[str_order(dfCNV$chromosomeID, numeric = TRUE),]\n",
    "\n",
    "# limit the data values so they don't go outside of the plot\n",
    "dfCNV <- subset(dfCNV, (value >= -1))\n",
    "dfCNV <- subset(dfCNV, (value <= 1))\n",
    "\n",
    "head(dfCNV)"
   ]
  },
  {
   "cell_type": "markdown",
   "id": "b9622a16",
   "metadata": {},
   "source": [
    "## 2.2 Add the Copy Number data to the circos figure as a scatter plot.\n",
    "\n",
    "Documentation for the scatter plot is available [here](https://www.rdocumentation.org/packages/RCircos/versions/1.2.2/topics/RCircos.Scatter.Plot)."
   ]
  },
  {
   "cell_type": "code",
   "execution_count": null,
   "id": "a4e6429e",
   "metadata": {},
   "outputs": [],
   "source": [
    "# for displaying in Jupyter\n",
    "options(jupyter.plot_mimetypes = \"image/png\", repr.plot.width = 6, repr.plot.height = 6, repr.plot.res = 300)\n",
    "\n",
    "# add the data to RCircos\n",
    "RCircos.Set.Core.Components(cyto.info = dfChrom, chr.exclude = NULL, tracks.inside = 4, tracks.outside = 0)\n",
    "\n",
    "# modify default parameters by accessing the params object (defined below)\n",
    "params <- RCircos.Get.Plot.Parameters()\n",
    "\n",
    "# change the background to white (default is cream)\n",
    "params$track.background <- \"white\"\n",
    "\n",
    "# update the plot parameters\n",
    "RCircos.Reset.Plot.Parameters(params)\n",
    "\n",
    "# generate the plots\n",
    "RCircos.Set.Plot.Area()\n",
    "RCircos.Chromosome.Ideogram.Plot() \n",
    "\n",
    "# for the scatter plot we define the following parameters:\n",
    "# data.col : the column number for the values that we want to plot\n",
    "# track.num : the ring in the circos plot where this scatter plot should live\n",
    "# side : position relative to the ideogram\n",
    "# by.fold : separation between blue and red points\n",
    "# min.value : minimum (y) value for the plot axis\n",
    "# max.value : maximum (y) value for the plot axis\n",
    "RCircos.Scatter.Plot(dfCNV, data.col = 4, track.num = 1, side = 'in', by.fold = 0.15, min.value = -1, max.value = 1)\n"
   ]
  },
  {
   "cell_type": "markdown",
   "id": "dc80da12",
   "metadata": {},
   "source": [
    "## 3. Read in the B-Allele data using [`read.table`](https://www.rdocumentation.org/packages/utils/versions/3.6.2/topics/read.table)."
   ]
  },
  {
   "cell_type": "code",
   "execution_count": null,
   "id": "411202e4",
   "metadata": {},
   "outputs": [],
   "source": [
    "# read in the B-allele frequency (BAF) data and fix the column names\n",
    "dfBAF <- read.table('data/VCaP_B-allele-Frequency.tsv', header = TRUE)\n",
    "colnames(dfBAF) <- c('chromosome','start','stop','value')\n",
    "head(dfBAF)"
   ]
  },
  {
   "cell_type": "markdown",
   "id": "9ce35210",
   "metadata": {},
   "source": [
    "## 3.1 Modify the table so that it can be used more easily with RCircos."
   ]
  },
  {
   "cell_type": "code",
   "execution_count": null,
   "id": "cf3c43a9",
   "metadata": {},
   "outputs": [],
   "source": [
    "# remove any extra chromosomes that are not in the ideogram\n",
    "extras <- c('chrMT')\n",
    "dfBAF <- subset(dfBAF, !(chromosome %in% extras))\n",
    "\n",
    "# create a column with the chromosome number or string for sorting\n",
    "dfBAF$chromosomeID <- gsub(\"chr\",\"\",as.character(dfBAF$chromosome))\n",
    "\n",
    "# randomly select 25000 lines (otherwise the plot is too full and takes too long to create)\n",
    "dfBAF <- dfBAF[sample(nrow(dfBAF), 25000), ]\n",
    "\n",
    "# sort by chromosomeID\n",
    "dfBAF <- dfBAF[str_order(dfBAF$chromosomeID, numeric = TRUE),]\n",
    "\n",
    "head(dfBAF)"
   ]
  },
  {
   "cell_type": "markdown",
   "id": "9469dc7e",
   "metadata": {},
   "source": [
    "## 3.2 Add the B-Allele data to the circos figure as a scatter plot.\n",
    "\n",
    "Documentation for the scatter plot is available [here](https://www.rdocumentation.org/packages/RCircos/versions/1.2.2/topics/RCircos.Scatter.Plot)."
   ]
  },
  {
   "cell_type": "code",
   "execution_count": null,
   "id": "7eac217b",
   "metadata": {},
   "outputs": [],
   "source": [
    "# for displaying in Jupyter\n",
    "options(jupyter.plot_mimetypes = \"image/png\", repr.plot.width = 6, repr.plot.height = 6, repr.plot.res = 300)\n",
    "\n",
    "# add the data to RCircos and set parameters\n",
    "RCircos.Set.Core.Components(cyto.info = dfChrom, chr.exclude = NULL, tracks.inside = 4, tracks.outside = 0)\n",
    "params <- RCircos.Get.Plot.Parameters()\n",
    "params$track.background <- \"white\"\n",
    "RCircos.Reset.Plot.Parameters(params)\n",
    "RCircos.Set.Plot.Area()\n",
    "\n",
    "# ideogram\n",
    "RCircos.Chromosome.Ideogram.Plot() \n",
    "\n",
    "# scatter plots\n",
    "RCircos.Scatter.Plot(dfCNV, data.col = 4, track.num = 1, side = 'in', by.fold = 0.15, min.value = -1, max.value = 1)\n",
    "RCircos.Scatter.Plot(dfBAF, data.col = 4, track.num = 2, side = 'in', min.value = 0, max.value = 1)"
   ]
  },
  {
   "cell_type": "markdown",
   "id": "3a10f722",
   "metadata": {},
   "source": [
    "## 4. Read in the Junctions data using [`data.table::fread`](https://www.rdocumentation.org/packages/data.table/versions/1.14.6/topics/fread).\n",
    "\n",
    "Note: we are using fread here because the data table has columns of different lengths"
   ]
  },
  {
   "cell_type": "code",
   "execution_count": null,
   "id": "ac14d2a0",
   "metadata": {},
   "outputs": [],
   "source": [
    "# read in the junctions data and fix the column names\n",
    "dfLinks <- fread('data/VCaP-highConfidenceJunctions.tsv', header = TRUE, skip = 11)\n",
    "head(dfLinks)"
   ]
  },
  {
   "cell_type": "markdown",
   "id": "c68cfea1",
   "metadata": {},
   "source": [
    "## 4.1 Modify the table so that it can be used more easily with RCircos"
   ]
  },
  {
   "cell_type": "code",
   "execution_count": null,
   "id": "92a52218",
   "metadata": {},
   "outputs": [],
   "source": [
    "# select the necessary columns\n",
    "dfLinks <- dfLinks[, c(2, 3, 3, 6, 7, 7)]\n",
    "\n",
    "colnames(dfLinks) <- c('chromosome','chromStart','chromEnd','chromosome.1','chromStart.1','chromEnd.1')\n",
    "\n",
    "# remove any extra chromosomes that are not in the ideogram\n",
    "extras <- c('chrMT')\n",
    "dfLinks <- subset(dfLinks, !(chromosome %in% extras))\n",
    "dfLinks <- subset(dfLinks, !(chromosome.1 %in% extras))\n",
    "\n",
    "# only use links that go between different chromosomes\n",
    "dfLinks <- subset(dfLinks, (chromosome != chromosome.1))\n",
    "\n",
    "# set the color for each line (in this case all black)\n",
    "dfLinks$PlotColor <- \"black\"\n",
    "\n",
    "head(dfLinks)"
   ]
  },
  {
   "cell_type": "markdown",
   "id": "19e0d068",
   "metadata": {},
   "source": [
    "## 4.2 Add the Junctions data to the circos figure as a link plot.\n",
    "\n",
    "Documentation for the link plot is available [here](https://www.rdocumentation.org/packages/RCircos/versions/1.2.2/topics/RCircos.Link.Plot)."
   ]
  },
  {
   "cell_type": "code",
   "execution_count": null,
   "id": "42a173ec",
   "metadata": {},
   "outputs": [],
   "source": [
    "# for displaying in Jupyter\n",
    "options(jupyter.plot_mimetypes = \"image/png\", repr.plot.width = 6, repr.plot.height = 6, repr.plot.res = 300)\n",
    "\n",
    "# add the data to RCircos and set parameters\n",
    "RCircos.Set.Core.Components(cyto.info = dfChrom, chr.exclude = NULL, tracks.inside = 4, tracks.outside = 0)\n",
    "params <- RCircos.Get.Plot.Parameters()\n",
    "params$track.background <- \"white\"\n",
    "RCircos.Reset.Plot.Parameters(params)\n",
    "RCircos.Set.Plot.Area()\n",
    "\n",
    "# ideogram\n",
    "RCircos.Chromosome.Ideogram.Plot() \n",
    "\n",
    "# scatter plots\n",
    "RCircos.Scatter.Plot(dfCNV, data.col = 4, track.num = 1, side = 'in', by.fold = 0.15, min.value = -1, max.value = 1)\n",
    "RCircos.Scatter.Plot(dfBAF, data.col = 4, track.num = 2, side = 'in', min.value = 0, max.value = 1)\n",
    "\n",
    "# for the links plot we define the following parameters:\n",
    "# track.num : the ring in the circos plot where this link plot should live\n",
    "# by.chromosome : if true, red is used for links within the same chromosome \n",
    "#    (we have removed those links already)\n",
    "RCircos.Link.Plot(dfLinks, track.num = 3, by.chromosome = FALSE)"
   ]
  },
  {
   "cell_type": "markdown",
   "id": "cf6b2f8a",
   "metadata": {},
   "source": [
    "## 5. Save the final figure as a PDF."
   ]
  },
  {
   "cell_type": "code",
   "execution_count": null,
   "id": "080f6b22",
   "metadata": {},
   "outputs": [],
   "source": [
    "# define the file\n",
    "pdf(file = \"cancer_circos_r.pdf\", height = 6, width = 6, compress = TRUE);\n",
    "\n",
    "# These lines below are identical to the cell above\n",
    "RCircos.Set.Core.Components(cyto.info = dfChrom, chr.exclude = NULL, tracks.inside = 4, tracks.outside = 0)\n",
    "params <- RCircos.Get.Plot.Parameters()\n",
    "params$track.background <- \"white\"\n",
    "RCircos.Reset.Plot.Parameters(params)\n",
    "RCircos.Set.Plot.Area()\n",
    "RCircos.Chromosome.Ideogram.Plot() \n",
    "RCircos.Scatter.Plot(dfCNV, data.col = 4, track.num = 1, side = 'in', by.fold = 0.15, min.value = -1, max.value = 1)\n",
    "RCircos.Scatter.Plot(dfBAF, data.col = 4, track.num = 2, side = 'in', min.value = 0, max.value = 1)\n",
    "RCircos.Link.Plot(dfLinks, track.num = 3, by.chromosome = FALSE)\n",
    "\n",
    "# close the graphics device\n",
    "dev.off()"
   ]
  },
  {
   "cell_type": "markdown",
   "id": "09f63ce5",
   "metadata": {},
   "source": [
    "## Additional documentation links : \n",
    "- https://cran.r-project.org/web/packages/RCircos/vignettes/Using_RCircos.pdf, \n",
    "- https://cran.r-project.org/web/packages/RCircos/RCircos.pdf\n",
    "- https://mrcuizhe.github.io/interacCircos_documentation/html/users_from_rcircos.html"
   ]
  }
 ],
 "metadata": {
  "kernelspec": {
   "display_name": "Python 3 (ipykernel)",
   "language": "python",
   "name": "python3"
  },
  "language_info": {
   "codemirror_mode": {
    "name": "ipython",
    "version": 3
   },
   "file_extension": ".py",
   "mimetype": "text/x-python",
   "name": "python",
   "nbconvert_exporter": "python",
   "pygments_lexer": "ipython3",
   "version": "3.10.6"
  }
 },
 "nbformat": 4,
 "nbformat_minor": 5
}
